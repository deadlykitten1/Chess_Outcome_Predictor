{
 "cells": [
  {
   "cell_type": "code",
   "execution_count": 1,
   "metadata": {},
   "outputs": [],
   "source": [
    "import pandas as pd\n",
    "import numpy as np\n",
    "import matplotlib.pyplot as plt\n",
    "import seaborn as sns\n",
    "from sklearn.preprocessing import OneHotEncoder"
   ]
  },
  {
   "cell_type": "code",
   "execution_count": 2,
   "metadata": {},
   "outputs": [],
   "source": [
    "magnus_df = pd.read_pickle(\"./magnus.pkl\")"
   ]
  },
  {
   "cell_type": "code",
   "execution_count": 3,
   "metadata": {},
   "outputs": [
    {
     "data": {
      "text/html": [
       "<div>\n",
       "<style scoped>\n",
       "    .dataframe tbody tr th:only-of-type {\n",
       "        vertical-align: middle;\n",
       "    }\n",
       "\n",
       "    .dataframe tbody tr th {\n",
       "        vertical-align: top;\n",
       "    }\n",
       "\n",
       "    .dataframe thead th {\n",
       "        text-align: right;\n",
       "    }\n",
       "</style>\n",
       "<table border=\"1\" class=\"dataframe\">\n",
       "  <thead>\n",
       "    <tr style=\"text-align: right;\">\n",
       "      <th></th>\n",
       "      <th>opponent</th>\n",
       "      <th>player_color</th>\n",
       "      <th>opponent_rating</th>\n",
       "      <th>player_rating</th>\n",
       "      <th>length</th>\n",
       "      <th>year</th>\n",
       "      <th>opening_moves</th>\n",
       "      <th>opening</th>\n",
       "      <th>opening_variant</th>\n",
       "      <th>result</th>\n",
       "    </tr>\n",
       "  </thead>\n",
       "  <tbody>\n",
       "    <tr>\n",
       "      <th>0</th>\n",
       "      <td>Wesley So</td>\n",
       "      <td>white</td>\n",
       "      <td>2741.0</td>\n",
       "      <td>2881.0</td>\n",
       "      <td>29</td>\n",
       "      <td>2021</td>\n",
       "      <td>1. e4 e5 2. Nf3 Nc6 3. Bb5 Nf6</td>\n",
       "      <td>Ruy López Opening</td>\n",
       "      <td>Berlin, Rio Gambit Accepted, 5.Re1 Nd6 6.Nxe5</td>\n",
       "      <td>draw</td>\n",
       "    </tr>\n",
       "    <tr>\n",
       "      <th>1</th>\n",
       "      <td>Levon Aronian</td>\n",
       "      <td>black</td>\n",
       "      <td>2761.0</td>\n",
       "      <td>2881.0</td>\n",
       "      <td>60</td>\n",
       "      <td>2021</td>\n",
       "      <td>1. e4 e5 2. Nf3 Nc6 3. Bb5 a6</td>\n",
       "      <td>Ruy López Opening</td>\n",
       "      <td>Morphy Defense, Anti-Marshall Variation, 8......</td>\n",
       "      <td>draw</td>\n",
       "    </tr>\n",
       "    <tr>\n",
       "      <th>2</th>\n",
       "      <td>Daniil Dubov</td>\n",
       "      <td>black</td>\n",
       "      <td>2710.0</td>\n",
       "      <td>2847.0</td>\n",
       "      <td>41</td>\n",
       "      <td>2021</td>\n",
       "      <td>1. d4 d5 2. c4 c5 3. Nf3 cxd4</td>\n",
       "      <td>Queen's Gambit Declined</td>\n",
       "      <td>Austrian Variation</td>\n",
       "      <td>win</td>\n",
       "    </tr>\n",
       "    <tr>\n",
       "      <th>3</th>\n",
       "      <td>Hikaru Nakamura</td>\n",
       "      <td>black</td>\n",
       "      <td>2736.0</td>\n",
       "      <td>2847.0</td>\n",
       "      <td>39</td>\n",
       "      <td>2021</td>\n",
       "      <td>1. d4 d5 2. c4 e6 3. Nc3 a6</td>\n",
       "      <td>Queen's Gambit Declined</td>\n",
       "      <td>Janowski Variation</td>\n",
       "      <td>win</td>\n",
       "    </tr>\n",
       "    <tr>\n",
       "      <th>4</th>\n",
       "      <td>Andrey Esipenko</td>\n",
       "      <td>black</td>\n",
       "      <td>2716.0</td>\n",
       "      <td>2847.0</td>\n",
       "      <td>36</td>\n",
       "      <td>2021</td>\n",
       "      <td>1. e4 e5 2. Nf3 Nc6 3. Bc4 Bc5</td>\n",
       "      <td>Giuoco Piano Game</td>\n",
       "      <td>Main Line, Giuoco Pianissimo Variation</td>\n",
       "      <td>draw</td>\n",
       "    </tr>\n",
       "    <tr>\n",
       "      <th>...</th>\n",
       "      <td>...</td>\n",
       "      <td>...</td>\n",
       "      <td>...</td>\n",
       "      <td>...</td>\n",
       "      <td>...</td>\n",
       "      <td>...</td>\n",
       "      <td>...</td>\n",
       "      <td>...</td>\n",
       "      <td>...</td>\n",
       "      <td>...</td>\n",
       "    </tr>\n",
       "    <tr>\n",
       "      <th>3195</th>\n",
       "      <td>Vasilios Kotronias</td>\n",
       "      <td>black</td>\n",
       "      <td>2573.0</td>\n",
       "      <td>2279.0</td>\n",
       "      <td>36</td>\n",
       "      <td>2002</td>\n",
       "      <td>1. e4 c5 2. Nf3 d6 3. d4 cxd4</td>\n",
       "      <td>Sicilian Defense</td>\n",
       "      <td>Open, Classical, Richter-Rauzer Variation</td>\n",
       "      <td>loss</td>\n",
       "    </tr>\n",
       "    <tr>\n",
       "      <th>3196</th>\n",
       "      <td>Tapani Sammalvuo</td>\n",
       "      <td>white</td>\n",
       "      <td>2460.0</td>\n",
       "      <td>2279.0</td>\n",
       "      <td>37</td>\n",
       "      <td>2002</td>\n",
       "      <td>1. d4 Nf6 2. c4 c6 3. Nc3 d5</td>\n",
       "      <td>Semi-Slav Defense</td>\n",
       "      <td>NaN</td>\n",
       "      <td>loss</td>\n",
       "    </tr>\n",
       "    <tr>\n",
       "      <th>3197</th>\n",
       "      <td>Aarland Stein Arild</td>\n",
       "      <td>white</td>\n",
       "      <td>2257.0</td>\n",
       "      <td>2279.0</td>\n",
       "      <td>58</td>\n",
       "      <td>2002</td>\n",
       "      <td>1. d4 d5 2. c4 e6 3. Nf3 Nf6</td>\n",
       "      <td>Queen's Gambit Declined</td>\n",
       "      <td>Harrwitz, Main Line</td>\n",
       "      <td>draw</td>\n",
       "    </tr>\n",
       "    <tr>\n",
       "      <th>3198</th>\n",
       "      <td>Olita Rause</td>\n",
       "      <td>white</td>\n",
       "      <td>2234.0</td>\n",
       "      <td>2127.0</td>\n",
       "      <td>64</td>\n",
       "      <td>2002</td>\n",
       "      <td>1. Nf3 d5 2. c4 c6 3. g3 Bg4</td>\n",
       "      <td>English Opening</td>\n",
       "      <td>Caro-Kann Defensive System, 2.Nf3 d5</td>\n",
       "      <td>loss</td>\n",
       "    </tr>\n",
       "    <tr>\n",
       "      <th>3199</th>\n",
       "      <td>Manne Per</td>\n",
       "      <td>white</td>\n",
       "      <td>2300.0</td>\n",
       "      <td>2279.0</td>\n",
       "      <td>24</td>\n",
       "      <td>2002</td>\n",
       "      <td>1. Nf3 Nf6 2. g3 d5 3. Bg2 e6</td>\n",
       "      <td>Catalan Opening</td>\n",
       "      <td>Closed</td>\n",
       "      <td>win</td>\n",
       "    </tr>\n",
       "  </tbody>\n",
       "</table>\n",
       "<p>3200 rows × 10 columns</p>\n",
       "</div>"
      ],
      "text/plain": [
       "                 opponent player_color  opponent_rating  player_rating  \\\n",
       "0               Wesley So        white           2741.0         2881.0   \n",
       "1           Levon Aronian        black           2761.0         2881.0   \n",
       "2            Daniil Dubov        black           2710.0         2847.0   \n",
       "3         Hikaru Nakamura        black           2736.0         2847.0   \n",
       "4         Andrey Esipenko        black           2716.0         2847.0   \n",
       "...                   ...          ...              ...            ...   \n",
       "3195   Vasilios Kotronias        black           2573.0         2279.0   \n",
       "3196     Tapani Sammalvuo        white           2460.0         2279.0   \n",
       "3197  Aarland Stein Arild        white           2257.0         2279.0   \n",
       "3198          Olita Rause        white           2234.0         2127.0   \n",
       "3199            Manne Per        white           2300.0         2279.0   \n",
       "\n",
       "      length  year                   opening_moves                  opening  \\\n",
       "0         29  2021  1. e4 e5 2. Nf3 Nc6 3. Bb5 Nf6        Ruy López Opening   \n",
       "1         60  2021   1. e4 e5 2. Nf3 Nc6 3. Bb5 a6        Ruy López Opening   \n",
       "2         41  2021   1. d4 d5 2. c4 c5 3. Nf3 cxd4  Queen's Gambit Declined   \n",
       "3         39  2021     1. d4 d5 2. c4 e6 3. Nc3 a6  Queen's Gambit Declined   \n",
       "4         36  2021  1. e4 e5 2. Nf3 Nc6 3. Bc4 Bc5        Giuoco Piano Game   \n",
       "...      ...   ...                             ...                      ...   \n",
       "3195      36  2002   1. e4 c5 2. Nf3 d6 3. d4 cxd4         Sicilian Defense   \n",
       "3196      37  2002    1. d4 Nf6 2. c4 c6 3. Nc3 d5        Semi-Slav Defense   \n",
       "3197      58  2002    1. d4 d5 2. c4 e6 3. Nf3 Nf6  Queen's Gambit Declined   \n",
       "3198      64  2002    1. Nf3 d5 2. c4 c6 3. g3 Bg4          English Opening   \n",
       "3199      24  2002   1. Nf3 Nf6 2. g3 d5 3. Bg2 e6          Catalan Opening   \n",
       "\n",
       "                                        opening_variant result  \n",
       "0         Berlin, Rio Gambit Accepted, 5.Re1 Nd6 6.Nxe5   draw  \n",
       "1      Morphy Defense, Anti-Marshall Variation, 8......   draw  \n",
       "2                                    Austrian Variation    win  \n",
       "3                                    Janowski Variation    win  \n",
       "4                Main Line, Giuoco Pianissimo Variation   draw  \n",
       "...                                                 ...    ...  \n",
       "3195          Open, Classical, Richter-Rauzer Variation   loss  \n",
       "3196                                                NaN   loss  \n",
       "3197                                Harrwitz, Main Line   draw  \n",
       "3198               Caro-Kann Defensive System, 2.Nf3 d5   loss  \n",
       "3199                                             Closed    win  \n",
       "\n",
       "[3200 rows x 10 columns]"
      ]
     },
     "execution_count": 3,
     "metadata": {},
     "output_type": "execute_result"
    }
   ],
   "source": [
    "magnus_df"
   ]
  },
  {
   "cell_type": "code",
   "execution_count": 4,
   "metadata": {},
   "outputs": [
    {
     "data": {
      "text/html": [
       "<div>\n",
       "<style scoped>\n",
       "    .dataframe tbody tr th:only-of-type {\n",
       "        vertical-align: middle;\n",
       "    }\n",
       "\n",
       "    .dataframe tbody tr th {\n",
       "        vertical-align: top;\n",
       "    }\n",
       "\n",
       "    .dataframe thead th {\n",
       "        text-align: right;\n",
       "    }\n",
       "</style>\n",
       "<table border=\"1\" class=\"dataframe\">\n",
       "  <thead>\n",
       "    <tr style=\"text-align: right;\">\n",
       "      <th></th>\n",
       "      <th>opponent_rating</th>\n",
       "      <th>player_rating</th>\n",
       "      <th>length</th>\n",
       "    </tr>\n",
       "    <tr>\n",
       "      <th>opponent</th>\n",
       "      <th></th>\n",
       "      <th></th>\n",
       "      <th></th>\n",
       "    </tr>\n",
       "  </thead>\n",
       "  <tbody>\n",
       "    <tr>\n",
       "      <th>A R Saleh Salem</th>\n",
       "      <td>2638.0</td>\n",
       "      <td>2837.0</td>\n",
       "      <td>62.0</td>\n",
       "    </tr>\n",
       "    <tr>\n",
       "      <th>Aarland Stein Arild</th>\n",
       "      <td>2257.0</td>\n",
       "      <td>2279.0</td>\n",
       "      <td>58.0</td>\n",
       "    </tr>\n",
       "    <tr>\n",
       "      <th>Abhijeet Gupta</th>\n",
       "      <td>2636.0</td>\n",
       "      <td>2839.0</td>\n",
       "      <td>59.5</td>\n",
       "    </tr>\n",
       "    <tr>\n",
       "      <th>Abhijit Kunte</th>\n",
       "      <td>2491.0</td>\n",
       "      <td>2838.0</td>\n",
       "      <td>44.0</td>\n",
       "    </tr>\n",
       "    <tr>\n",
       "      <th>Adam Tukhaev</th>\n",
       "      <td>2527.0</td>\n",
       "      <td>2835.0</td>\n",
       "      <td>72.0</td>\n",
       "    </tr>\n",
       "    <tr>\n",
       "      <th>...</th>\n",
       "      <td>...</td>\n",
       "      <td>...</td>\n",
       "      <td>...</td>\n",
       "    </tr>\n",
       "    <tr>\n",
       "      <th>Zhao Zong-Yuan</th>\n",
       "      <td>2491.0</td>\n",
       "      <td>2714.0</td>\n",
       "      <td>54.0</td>\n",
       "    </tr>\n",
       "    <tr>\n",
       "      <th>Ziaur Rahman</th>\n",
       "      <td>2510.0</td>\n",
       "      <td>2786.0</td>\n",
       "      <td>38.0</td>\n",
       "    </tr>\n",
       "    <tr>\n",
       "      <th>Zivojin Z Ljubisavljevic</th>\n",
       "      <td>2273.0</td>\n",
       "      <td>2581.0</td>\n",
       "      <td>45.0</td>\n",
       "    </tr>\n",
       "    <tr>\n",
       "      <th>Zoltan Almasi</th>\n",
       "      <td>2668.5</td>\n",
       "      <td>2669.5</td>\n",
       "      <td>64.0</td>\n",
       "    </tr>\n",
       "    <tr>\n",
       "      <th>Zurab Azmaiparashvili</th>\n",
       "      <td>2658.0</td>\n",
       "      <td>2570.0</td>\n",
       "      <td>49.5</td>\n",
       "    </tr>\n",
       "  </tbody>\n",
       "</table>\n",
       "<p>544 rows × 3 columns</p>\n",
       "</div>"
      ],
      "text/plain": [
       "                          opponent_rating  player_rating  length\n",
       "opponent                                                        \n",
       "A R Saleh Salem                    2638.0         2837.0    62.0\n",
       "Aarland Stein Arild                2257.0         2279.0    58.0\n",
       "Abhijeet Gupta                     2636.0         2839.0    59.5\n",
       "Abhijit Kunte                      2491.0         2838.0    44.0\n",
       "Adam Tukhaev                       2527.0         2835.0    72.0\n",
       "...                                   ...            ...     ...\n",
       "Zhao Zong-Yuan                     2491.0         2714.0    54.0\n",
       "Ziaur Rahman                       2510.0         2786.0    38.0\n",
       "Zivojin Z Ljubisavljevic           2273.0         2581.0    45.0\n",
       "Zoltan Almasi                      2668.5         2669.5    64.0\n",
       "Zurab Azmaiparashvili              2658.0         2570.0    49.5\n",
       "\n",
       "[544 rows x 3 columns]"
      ]
     },
     "execution_count": 4,
     "metadata": {},
     "output_type": "execute_result"
    }
   ],
   "source": [
    "magnus_df.groupby('opponent').mean()"
   ]
  },
  {
   "cell_type": "code",
   "execution_count": 5,
   "metadata": {},
   "outputs": [
    {
     "data": {
      "text/html": [
       "<div>\n",
       "<style scoped>\n",
       "    .dataframe tbody tr th:only-of-type {\n",
       "        vertical-align: middle;\n",
       "    }\n",
       "\n",
       "    .dataframe tbody tr th {\n",
       "        vertical-align: top;\n",
       "    }\n",
       "\n",
       "    .dataframe thead th {\n",
       "        text-align: right;\n",
       "    }\n",
       "</style>\n",
       "<table border=\"1\" class=\"dataframe\">\n",
       "  <thead>\n",
       "    <tr style=\"text-align: right;\">\n",
       "      <th></th>\n",
       "      <th>opponent_rating</th>\n",
       "      <th>player_rating</th>\n",
       "      <th>length</th>\n",
       "    </tr>\n",
       "  </thead>\n",
       "  <tbody>\n",
       "    <tr>\n",
       "      <th>count</th>\n",
       "      <td>3171.000000</td>\n",
       "      <td>3196.000000</td>\n",
       "      <td>3200.000000</td>\n",
       "    </tr>\n",
       "    <tr>\n",
       "      <th>mean</th>\n",
       "      <td>2681.164617</td>\n",
       "      <td>2783.596683</td>\n",
       "      <td>45.905000</td>\n",
       "    </tr>\n",
       "    <tr>\n",
       "      <th>std</th>\n",
       "      <td>142.501011</td>\n",
       "      <td>113.315140</td>\n",
       "      <td>16.719381</td>\n",
       "    </tr>\n",
       "    <tr>\n",
       "      <th>min</th>\n",
       "      <td>1650.000000</td>\n",
       "      <td>2127.000000</td>\n",
       "      <td>5.000000</td>\n",
       "    </tr>\n",
       "    <tr>\n",
       "      <th>25%</th>\n",
       "      <td>2638.000000</td>\n",
       "      <td>2733.000000</td>\n",
       "      <td>34.000000</td>\n",
       "    </tr>\n",
       "    <tr>\n",
       "      <th>50%</th>\n",
       "      <td>2736.000000</td>\n",
       "      <td>2834.000000</td>\n",
       "      <td>43.000000</td>\n",
       "    </tr>\n",
       "    <tr>\n",
       "      <th>75%</th>\n",
       "      <td>2774.000000</td>\n",
       "      <td>2857.000000</td>\n",
       "      <td>55.000000</td>\n",
       "    </tr>\n",
       "    <tr>\n",
       "      <th>max</th>\n",
       "      <td>2900.000000</td>\n",
       "      <td>2886.000000</td>\n",
       "      <td>174.000000</td>\n",
       "    </tr>\n",
       "  </tbody>\n",
       "</table>\n",
       "</div>"
      ],
      "text/plain": [
       "       opponent_rating  player_rating       length\n",
       "count      3171.000000    3196.000000  3200.000000\n",
       "mean       2681.164617    2783.596683    45.905000\n",
       "std         142.501011     113.315140    16.719381\n",
       "min        1650.000000    2127.000000     5.000000\n",
       "25%        2638.000000    2733.000000    34.000000\n",
       "50%        2736.000000    2834.000000    43.000000\n",
       "75%        2774.000000    2857.000000    55.000000\n",
       "max        2900.000000    2886.000000   174.000000"
      ]
     },
     "execution_count": 5,
     "metadata": {},
     "output_type": "execute_result"
    }
   ],
   "source": [
    "magnus_df.describe()"
   ]
  },
  {
   "cell_type": "code",
   "execution_count": 6,
   "metadata": {},
   "outputs": [],
   "source": [
    "mask = magnus_df['opponent'].value_counts()\n",
    "magnus_df = magnus_df[magnus_df['opponent'].isin(mask.index[mask>1])]"
   ]
  },
  {
   "cell_type": "code",
   "execution_count": 7,
   "metadata": {},
   "outputs": [],
   "source": [
    "num_magnus_df = magnus_df[magnus_df.describe().columns]"
   ]
  },
  {
   "cell_type": "code",
   "execution_count": 8,
   "metadata": {},
   "outputs": [],
   "source": [
    "cat_magnus_df = magnus_df[['opponent', 'player_color', 'year', 'opening_moves', 'opening', 'opening_variant', 'result']]"
   ]
  },
  {
   "cell_type": "code",
   "execution_count": 9,
   "metadata": {},
   "outputs": [
    {
     "data": {
      "image/png": "[encoded data removed]",
      "text/plain": [
       "<Figure size 432x288 with 1 Axes>"
      ]
     },
     "metadata": {
      "needs_background": "light"
     },
     "output_type": "display_data"
    },
    {
     "data": {
      "image/png": "[encoded data removed]",
      "text/plain": [
       "<Figure size 432x288 with 1 Axes>"
      ]
     },
     "metadata": {
      "needs_background": "light"
     },
     "output_type": "display_data"
    },
    {
     "data": {
      "image/png": "[encoded data removed]",
      "text/plain": [
       "<Figure size 432x288 with 1 Axes>"
      ]
     },
     "metadata": {
      "needs_background": "light"
     },
     "output_type": "display_data"
    }
   ],
   "source": [
    "for column in num_magnus_df:\n",
    "    plt.hist(num_magnus_df[column])\n",
    "    plt.title(column)\n",
    "    plt.show()"
   ]
  },
  {
   "cell_type": "code",
   "execution_count": 10,
   "metadata": {},
   "outputs": [
    {
     "name": "stderr",
     "output_type": "stream",
     "text": [
      "/Library/anaconda3/envs/learn-env/lib/python3.8/site-packages/seaborn/_decorators.py:36: FutureWarning: Pass the following variables as keyword args: x, y. From version 0.12, the only valid positional argument will be `data`, and passing other arguments without an explicit keyword will result in an error or misinterpretation.\n",
      "  warnings.warn(\n"
     ]
    },
    {
     "data": {
      "image/png": "[encoded data removed]",
      "text/plain": [
       "<Figure size 432x288 with 1 Axes>"
      ]
     },
     "metadata": {
      "needs_background": "light"
     },
     "output_type": "display_data"
    },
    {
     "name": "stderr",
     "output_type": "stream",
     "text": [
      "/Library/anaconda3/envs/learn-env/lib/python3.8/site-packages/seaborn/_decorators.py:36: FutureWarning: Pass the following variables as keyword args: x, y. From version 0.12, the only valid positional argument will be `data`, and passing other arguments without an explicit keyword will result in an error or misinterpretation.\n",
      "  warnings.warn(\n"
     ]
    },
    {
     "data": {
      "image/png": "[encoded data removed]",
      "text/plain": [
       "<Figure size 432x288 with 1 Axes>"
      ]
     },
     "metadata": {
      "needs_background": "light"
     },
     "output_type": "display_data"
    },
    {
     "name": "stderr",
     "output_type": "stream",
     "text": [
      "/Library/anaconda3/envs/learn-env/lib/python3.8/site-packages/seaborn/_decorators.py:36: FutureWarning: Pass the following variables as keyword args: x, y. From version 0.12, the only valid positional argument will be `data`, and passing other arguments without an explicit keyword will result in an error or misinterpretation.\n",
      "  warnings.warn(\n"
     ]
    },
    {
     "data": {
      "image/png": "[encoded data removed]",
      "text/plain": [
       "<Figure size 432x288 with 1 Axes>"
      ]
     },
     "metadata": {
      "needs_background": "light"
     },
     "output_type": "display_data"
    },
    {
     "name": "stderr",
     "output_type": "stream",
     "text": [
      "/Library/anaconda3/envs/learn-env/lib/python3.8/site-packages/seaborn/_decorators.py:36: FutureWarning: Pass the following variables as keyword args: x, y. From version 0.12, the only valid positional argument will be `data`, and passing other arguments without an explicit keyword will result in an error or misinterpretation.\n",
      "  warnings.warn(\n"
     ]
    },
    {
     "data": {
      "image/png": "[encoded data removed]",
      "text/plain": [
       "<Figure size 432x288 with 1 Axes>"
      ]
     },
     "metadata": {
      "needs_background": "light"
     },
     "output_type": "display_data"
    },
    {
     "name": "stderr",
     "output_type": "stream",
     "text": [
      "/Library/anaconda3/envs/learn-env/lib/python3.8/site-packages/seaborn/_decorators.py:36: FutureWarning: Pass the following variables as keyword args: x, y. From version 0.12, the only valid positional argument will be `data`, and passing other arguments without an explicit keyword will result in an error or misinterpretation.\n",
      "  warnings.warn(\n"
     ]
    },
    {
     "data": {
      "image/png": "[encoded data removed]",
      "text/plain": [
       "<Figure size 432x288 with 1 Axes>"
      ]
     },
     "metadata": {
      "needs_background": "light"
     },
     "output_type": "display_data"
    },
    {
     "name": "stderr",
     "output_type": "stream",
     "text": [
      "/Library/anaconda3/envs/learn-env/lib/python3.8/site-packages/seaborn/_decorators.py:36: FutureWarning: Pass the following variables as keyword args: x, y. From version 0.12, the only valid positional argument will be `data`, and passing other arguments without an explicit keyword will result in an error or misinterpretation.\n",
      "  warnings.warn(\n"
     ]
    },
    {
     "data": {
      "image/png": "[encoded data removed]",
      "text/plain": [
       "<Figure size 432x288 with 1 Axes>"
      ]
     },
     "metadata": {
      "needs_background": "light"
     },
     "output_type": "display_data"
    },
    {
     "name": "stderr",
     "output_type": "stream",
     "text": [
      "/Library/anaconda3/envs/learn-env/lib/python3.8/site-packages/seaborn/_decorators.py:36: FutureWarning: Pass the following variables as keyword args: x, y. From version 0.12, the only valid positional argument will be `data`, and passing other arguments without an explicit keyword will result in an error or misinterpretation.\n",
      "  warnings.warn(\n"
     ]
    },
    {
     "data": {
      "image/png": "[encoded data removed]",
      "text/plain": [
       "<Figure size 432x288 with 1 Axes>"
      ]
     },
     "metadata": {
      "needs_background": "light"
     },
     "output_type": "display_data"
    }
   ],
   "source": [
    "for col in cat_magnus_df.columns:\n",
    "    sns.barplot(cat_magnus_df[col].value_counts().index, cat_magnus_df[col].value_counts()).set_title(col)\n",
    "    plt.show()"
   ]
  },
  {
   "cell_type": "code",
   "execution_count": 11,
   "metadata": {},
   "outputs": [
    {
     "name": "stdout",
     "output_type": "stream",
     "text": [
      "Hikaru Nakamura    153\n",
      "Name: opponent, dtype: int64\n",
      "Teimour Radjabov    77\n",
      "Name: opponent, dtype: int64\n",
      "Jan-Krzysztof Duda    13\n",
      "Name: opponent, dtype: int64\n",
      "Ding Liren    83\n",
      "Name: opponent, dtype: int64\n",
      "Alireza Firouzja    10\n",
      "Name: opponent, dtype: int64\n",
      "Fabiano Caruana    75\n",
      "Name: opponent, dtype: int64\n",
      "Ian Nepomniachtchi    64\n",
      "Name: opponent, dtype: int64\n",
      "Richard Rapport    9\n",
      "Name: opponent, dtype: int64\n"
     ]
    }
   ],
   "source": [
    "candidate_list = ['Hikaru Nakamura', 'Teimour Radjabov', 'Jan-Krzysztof Duda', 'Ding Liren', 'Alireza Firouzja', 'Fabiano Caruana', 'Ian Nepomniachtchi', 'Richard Rapport']\n",
    "\n",
    "for candidate in candidate_list: \n",
    "    print(magnus_df[magnus_df['opponent'] == candidate]['opponent'].value_counts())"
   ]
  },
  {
   "cell_type": "code",
   "execution_count": null,
   "metadata": {},
   "outputs": [],
   "source": []
  }
 ],
 "metadata": {
  "interpreter": {
   "hash": "dfff5bd0c134f0547de71482d92e26ad9816d2e72735de45c73d9aeb806ef98a"
  },
  "kernelspec": {
   "display_name": "Python 3.8.5 ('learn-env')",
   "language": "python",
   "name": "python3"
  },
  "language_info": {
   "codemirror_mode": {
    "name": "ipython",
    "version": 3
   },
   "file_extension": ".py",
   "mimetype": "text/x-python",
   "name": "python",
   "nbconvert_exporter": "python",
   "pygments_lexer": "ipython3",
   "version": "3.8.5"
  },
  "orig_nbformat": 4
 },
 "nbformat": 4,
 "nbformat_minor": 2
}
