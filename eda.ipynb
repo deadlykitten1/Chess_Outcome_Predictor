{
 "cells": [
  {
   "cell_type": "code",
   "execution_count": 1,
   "metadata": {},
   "outputs": [],
   "source": [
    "import pandas as pd\n",
    "import numpy as np\n",
    "import matplotlib.pyplot as plt\n",
    "import seaborn as sns\n",
    "from sklearn.preprocessing import OneHotEncoder"
   ]
  },
  {
   "cell_type": "code",
   "execution_count": 2,
   "metadata": {},
   "outputs": [],
   "source": [
    "magnus_df = pd.read_pickle(\"./magnus.pkl\")"
   ]
  },
  {
   "cell_type": "code",
   "execution_count": 3,
   "metadata": {},
   "outputs": [
    {
     "data": {
      "text/html": [
       "<div>\n",
       "<style scoped>\n",
       "    .dataframe tbody tr th:only-of-type {\n",
       "        vertical-align: middle;\n",
       "    }\n",
       "\n",
       "    .dataframe tbody tr th {\n",
       "        vertical-align: top;\n",
       "    }\n",
       "\n",
       "    .dataframe thead th {\n",
       "        text-align: right;\n",
       "    }\n",
       "</style>\n",
       "<table border=\"1\" class=\"dataframe\">\n",
       "  <thead>\n",
       "    <tr style=\"text-align: right;\">\n",
       "      <th></th>\n",
       "      <th>opponent</th>\n",
       "      <th>player_color</th>\n",
       "      <th>opponent_rating</th>\n",
       "      <th>player_rating</th>\n",
       "      <th>length</th>\n",
       "      <th>year</th>\n",
       "      <th>opening_moves</th>\n",
       "      <th>opening</th>\n",
       "      <th>opening_variant</th>\n",
       "      <th>result</th>\n",
       "    </tr>\n",
       "  </thead>\n",
       "  <tbody>\n",
       "    <tr>\n",
       "      <th>0</th>\n",
       "      <td>Wesley So</td>\n",
       "      <td>white</td>\n",
       "      <td>2741.0</td>\n",
       "      <td>2881.0</td>\n",
       "      <td>29</td>\n",
       "      <td>2021</td>\n",
       "      <td>1. e4 e5 2. Nf3 Nc6 3. Bb5 Nf6</td>\n",
       "      <td>Ruy López Opening</td>\n",
       "      <td>Berlin, Rio Gambit Accepted, 5.Re1 Nd6 6.Nxe5</td>\n",
       "      <td>draw</td>\n",
       "    </tr>\n",
       "    <tr>\n",
       "      <th>1</th>\n",
       "      <td>Levon Aronian</td>\n",
       "      <td>black</td>\n",
       "      <td>2761.0</td>\n",
       "      <td>2881.0</td>\n",
       "      <td>60</td>\n",
       "      <td>2021</td>\n",
       "      <td>1. e4 e5 2. Nf3 Nc6 3. Bb5 a6</td>\n",
       "      <td>Ruy López Opening</td>\n",
       "      <td>Morphy Defense, Anti-Marshall Variation, 8......</td>\n",
       "      <td>draw</td>\n",
       "    </tr>\n",
       "    <tr>\n",
       "      <th>2</th>\n",
       "      <td>Daniil Dubov</td>\n",
       "      <td>black</td>\n",
       "      <td>2710.0</td>\n",
       "      <td>2847.0</td>\n",
       "      <td>41</td>\n",
       "      <td>2021</td>\n",
       "      <td>1. d4 d5 2. c4 c5 3. Nf3 cxd4</td>\n",
       "      <td>Queen's Gambit Declined</td>\n",
       "      <td>Austrian Variation</td>\n",
       "      <td>win</td>\n",
       "    </tr>\n",
       "    <tr>\n",
       "      <th>3</th>\n",
       "      <td>Hikaru Nakamura</td>\n",
       "      <td>black</td>\n",
       "      <td>2736.0</td>\n",
       "      <td>2847.0</td>\n",
       "      <td>39</td>\n",
       "      <td>2021</td>\n",
       "      <td>1. d4 d5 2. c4 e6 3. Nc3 a6</td>\n",
       "      <td>Queen's Gambit Declined</td>\n",
       "      <td>Janowski Variation</td>\n",
       "      <td>win</td>\n",
       "    </tr>\n",
       "    <tr>\n",
       "      <th>4</th>\n",
       "      <td>Andrey Esipenko</td>\n",
       "      <td>black</td>\n",
       "      <td>2716.0</td>\n",
       "      <td>2847.0</td>\n",
       "      <td>36</td>\n",
       "      <td>2021</td>\n",
       "      <td>1. e4 e5 2. Nf3 Nc6 3. Bc4 Bc5</td>\n",
       "      <td>Giuoco Piano Game</td>\n",
       "      <td>Main Line, Giuoco Pianissimo Variation</td>\n",
       "      <td>draw</td>\n",
       "    </tr>\n",
       "    <tr>\n",
       "      <th>...</th>\n",
       "      <td>...</td>\n",
       "      <td>...</td>\n",
       "      <td>...</td>\n",
       "      <td>...</td>\n",
       "      <td>...</td>\n",
       "      <td>...</td>\n",
       "      <td>...</td>\n",
       "      <td>...</td>\n",
       "      <td>...</td>\n",
       "      <td>...</td>\n",
       "    </tr>\n",
       "    <tr>\n",
       "      <th>1495</th>\n",
       "      <td>Veselin Topalov</td>\n",
       "      <td>white</td>\n",
       "      <td>2798.0</td>\n",
       "      <td>2876.0</td>\n",
       "      <td>60</td>\n",
       "      <td>2015</td>\n",
       "      <td>1. d4 d5 2. c4 c6 3. Nf3 Nf6</td>\n",
       "      <td>Semi-Slav Defense</td>\n",
       "      <td>NaN</td>\n",
       "      <td>loss</td>\n",
       "    </tr>\n",
       "    <tr>\n",
       "      <th>1496</th>\n",
       "      <td>Ivan Saric</td>\n",
       "      <td>white</td>\n",
       "      <td>2666.0</td>\n",
       "      <td>2862.0</td>\n",
       "      <td>49</td>\n",
       "      <td>2015</td>\n",
       "      <td>1. e4 c5 2. Nf3 Nc6 3. Nc3 Nf6</td>\n",
       "      <td>Sicilian Defense</td>\n",
       "      <td>Old Sicilian Variation</td>\n",
       "      <td>draw</td>\n",
       "    </tr>\n",
       "    <tr>\n",
       "      <th>1497</th>\n",
       "      <td>Maxime Vachier-Lagrave</td>\n",
       "      <td>white</td>\n",
       "      <td>2731.0</td>\n",
       "      <td>2853.0</td>\n",
       "      <td>43</td>\n",
       "      <td>2015</td>\n",
       "      <td>1. Nf3 Nf6 2. c4 g6 3. g3 Bg7</td>\n",
       "      <td>English Opening</td>\n",
       "      <td>Anglo-Indian, King's Indian Defense</td>\n",
       "      <td>win</td>\n",
       "    </tr>\n",
       "    <tr>\n",
       "      <th>1498</th>\n",
       "      <td>Alexander Grischuk</td>\n",
       "      <td>white</td>\n",
       "      <td>2771.0</td>\n",
       "      <td>2853.0</td>\n",
       "      <td>66</td>\n",
       "      <td>2015</td>\n",
       "      <td>1. e4 c5 2. Nf3 d6 3. d4 cxd4</td>\n",
       "      <td>Sicilian Defense</td>\n",
       "      <td>Open, Najdorf, Opočenský Variation</td>\n",
       "      <td>loss</td>\n",
       "    </tr>\n",
       "    <tr>\n",
       "      <th>1499</th>\n",
       "      <td>Ioannis Papaioannou</td>\n",
       "      <td>white</td>\n",
       "      <td>2638.0</td>\n",
       "      <td>2850.0</td>\n",
       "      <td>41</td>\n",
       "      <td>2015</td>\n",
       "      <td>1. d4 Nf6 2. c4 e6 3. Nf3 Bb4+</td>\n",
       "      <td>Bogo-Indian Defense</td>\n",
       "      <td>Nimzowitsch Variation</td>\n",
       "      <td>draw</td>\n",
       "    </tr>\n",
       "  </tbody>\n",
       "</table>\n",
       "<p>1500 rows × 10 columns</p>\n",
       "</div>"
      ],
      "text/plain": [
       "                    opponent player_color  opponent_rating  player_rating  \\\n",
       "0                  Wesley So        white           2741.0         2881.0   \n",
       "1              Levon Aronian        black           2761.0         2881.0   \n",
       "2               Daniil Dubov        black           2710.0         2847.0   \n",
       "3            Hikaru Nakamura        black           2736.0         2847.0   \n",
       "4            Andrey Esipenko        black           2716.0         2847.0   \n",
       "...                      ...          ...              ...            ...   \n",
       "1495         Veselin Topalov        white           2798.0         2876.0   \n",
       "1496              Ivan Saric        white           2666.0         2862.0   \n",
       "1497  Maxime Vachier-Lagrave        white           2731.0         2853.0   \n",
       "1498      Alexander Grischuk        white           2771.0         2853.0   \n",
       "1499     Ioannis Papaioannou        white           2638.0         2850.0   \n",
       "\n",
       "      length  year                   opening_moves                  opening  \\\n",
       "0         29  2021  1. e4 e5 2. Nf3 Nc6 3. Bb5 Nf6        Ruy López Opening   \n",
       "1         60  2021   1. e4 e5 2. Nf3 Nc6 3. Bb5 a6        Ruy López Opening   \n",
       "2         41  2021   1. d4 d5 2. c4 c5 3. Nf3 cxd4  Queen's Gambit Declined   \n",
       "3         39  2021     1. d4 d5 2. c4 e6 3. Nc3 a6  Queen's Gambit Declined   \n",
       "4         36  2021  1. e4 e5 2. Nf3 Nc6 3. Bc4 Bc5        Giuoco Piano Game   \n",
       "...      ...   ...                             ...                      ...   \n",
       "1495      60  2015    1. d4 d5 2. c4 c6 3. Nf3 Nf6        Semi-Slav Defense   \n",
       "1496      49  2015  1. e4 c5 2. Nf3 Nc6 3. Nc3 Nf6         Sicilian Defense   \n",
       "1497      43  2015   1. Nf3 Nf6 2. c4 g6 3. g3 Bg7          English Opening   \n",
       "1498      66  2015   1. e4 c5 2. Nf3 d6 3. d4 cxd4         Sicilian Defense   \n",
       "1499      41  2015  1. d4 Nf6 2. c4 e6 3. Nf3 Bb4+      Bogo-Indian Defense   \n",
       "\n",
       "                                        opening_variant result  \n",
       "0         Berlin, Rio Gambit Accepted, 5.Re1 Nd6 6.Nxe5   draw  \n",
       "1      Morphy Defense, Anti-Marshall Variation, 8......   draw  \n",
       "2                                    Austrian Variation    win  \n",
       "3                                    Janowski Variation    win  \n",
       "4                Main Line, Giuoco Pianissimo Variation   draw  \n",
       "...                                                 ...    ...  \n",
       "1495                                                NaN   loss  \n",
       "1496                             Old Sicilian Variation   draw  \n",
       "1497                Anglo-Indian, King's Indian Defense    win  \n",
       "1498                 Open, Najdorf, Opočenský Variation   loss  \n",
       "1499                              Nimzowitsch Variation   draw  \n",
       "\n",
       "[1500 rows x 10 columns]"
      ]
     },
     "execution_count": 3,
     "metadata": {},
     "output_type": "execute_result"
    }
   ],
   "source": [
    "magnus_df"
   ]
  },
  {
   "cell_type": "code",
   "execution_count": 4,
   "metadata": {},
   "outputs": [
    {
     "data": {
      "text/html": [
       "<div>\n",
       "<style scoped>\n",
       "    .dataframe tbody tr th:only-of-type {\n",
       "        vertical-align: middle;\n",
       "    }\n",
       "\n",
       "    .dataframe tbody tr th {\n",
       "        vertical-align: top;\n",
       "    }\n",
       "\n",
       "    .dataframe thead th {\n",
       "        text-align: right;\n",
       "    }\n",
       "</style>\n",
       "<table border=\"1\" class=\"dataframe\">\n",
       "  <thead>\n",
       "    <tr style=\"text-align: right;\">\n",
       "      <th></th>\n",
       "      <th>opponent_rating</th>\n",
       "      <th>player_rating</th>\n",
       "      <th>length</th>\n",
       "    </tr>\n",
       "    <tr>\n",
       "      <th>opponent</th>\n",
       "      <th></th>\n",
       "      <th></th>\n",
       "      <th></th>\n",
       "    </tr>\n",
       "  </thead>\n",
       "  <tbody>\n",
       "    <tr>\n",
       "      <th>A R Saleh Salem</th>\n",
       "      <td>2638.000000</td>\n",
       "      <td>2837.0</td>\n",
       "      <td>62.000000</td>\n",
       "    </tr>\n",
       "    <tr>\n",
       "      <th>Abhijeet Gupta</th>\n",
       "      <td>2636.000000</td>\n",
       "      <td>2839.0</td>\n",
       "      <td>59.500000</td>\n",
       "    </tr>\n",
       "    <tr>\n",
       "      <th>Abhijit Kunte</th>\n",
       "      <td>2491.000000</td>\n",
       "      <td>2838.0</td>\n",
       "      <td>44.000000</td>\n",
       "    </tr>\n",
       "    <tr>\n",
       "      <th>Adam Tukhaev</th>\n",
       "      <td>2527.000000</td>\n",
       "      <td>2835.0</td>\n",
       "      <td>72.000000</td>\n",
       "    </tr>\n",
       "    <tr>\n",
       "      <th>Ahmed Adly</th>\n",
       "      <td>2599.000000</td>\n",
       "      <td>2840.0</td>\n",
       "      <td>47.000000</td>\n",
       "    </tr>\n",
       "    <tr>\n",
       "      <th>...</th>\n",
       "      <td>...</td>\n",
       "      <td>...</td>\n",
       "      <td>...</td>\n",
       "    </tr>\n",
       "    <tr>\n",
       "      <th>Yu Yangyi</th>\n",
       "      <td>2744.142857</td>\n",
       "      <td>2867.0</td>\n",
       "      <td>44.714286</td>\n",
       "    </tr>\n",
       "    <tr>\n",
       "      <th>Yuri Vovk</th>\n",
       "      <td>2617.000000</td>\n",
       "      <td>2850.0</td>\n",
       "      <td>94.000000</td>\n",
       "    </tr>\n",
       "    <tr>\n",
       "      <th>Yuriy Kryvoruchko</th>\n",
       "      <td>2710.000000</td>\n",
       "      <td>2850.0</td>\n",
       "      <td>38.000000</td>\n",
       "    </tr>\n",
       "    <tr>\n",
       "      <th>Yuriy Kuzubov</th>\n",
       "      <td>2636.000000</td>\n",
       "      <td>2876.0</td>\n",
       "      <td>52.000000</td>\n",
       "    </tr>\n",
       "    <tr>\n",
       "      <th>Zhamsaran Tsydypov</th>\n",
       "      <td>2529.000000</td>\n",
       "      <td>2835.0</td>\n",
       "      <td>34.000000</td>\n",
       "    </tr>\n",
       "  </tbody>\n",
       "</table>\n",
       "<p>202 rows × 3 columns</p>\n",
       "</div>"
      ],
      "text/plain": [
       "                    opponent_rating  player_rating     length\n",
       "opponent                                                     \n",
       "A R Saleh Salem         2638.000000         2837.0  62.000000\n",
       "Abhijeet Gupta          2636.000000         2839.0  59.500000\n",
       "Abhijit Kunte           2491.000000         2838.0  44.000000\n",
       "Adam Tukhaev            2527.000000         2835.0  72.000000\n",
       "Ahmed Adly              2599.000000         2840.0  47.000000\n",
       "...                             ...            ...        ...\n",
       "Yu Yangyi               2744.142857         2867.0  44.714286\n",
       "Yuri Vovk               2617.000000         2850.0  94.000000\n",
       "Yuriy Kryvoruchko       2710.000000         2850.0  38.000000\n",
       "Yuriy Kuzubov           2636.000000         2876.0  52.000000\n",
       "Zhamsaran Tsydypov      2529.000000         2835.0  34.000000\n",
       "\n",
       "[202 rows x 3 columns]"
      ]
     },
     "execution_count": 4,
     "metadata": {},
     "output_type": "execute_result"
    }
   ],
   "source": [
    "magnus_df.groupby('opponent').mean()"
   ]
  },
  {
   "cell_type": "code",
   "execution_count": 22,
   "metadata": {},
   "outputs": [
    {
     "data": {
      "text/html": [
       "<div>\n",
       "<style scoped>\n",
       "    .dataframe tbody tr th:only-of-type {\n",
       "        vertical-align: middle;\n",
       "    }\n",
       "\n",
       "    .dataframe tbody tr th {\n",
       "        vertical-align: top;\n",
       "    }\n",
       "\n",
       "    .dataframe thead th {\n",
       "        text-align: right;\n",
       "    }\n",
       "</style>\n",
       "<table border=\"1\" class=\"dataframe\">\n",
       "  <thead>\n",
       "    <tr style=\"text-align: right;\">\n",
       "      <th></th>\n",
       "      <th>opponent_rating</th>\n",
       "      <th>player_rating</th>\n",
       "      <th>length</th>\n",
       "    </tr>\n",
       "  </thead>\n",
       "  <tbody>\n",
       "    <tr>\n",
       "      <th>count</th>\n",
       "      <td>1410.000000</td>\n",
       "      <td>1416.000000</td>\n",
       "      <td>1419.000000</td>\n",
       "    </tr>\n",
       "    <tr>\n",
       "      <th>mean</th>\n",
       "      <td>2732.856738</td>\n",
       "      <td>2853.487994</td>\n",
       "      <td>46.693446</td>\n",
       "    </tr>\n",
       "    <tr>\n",
       "      <th>std</th>\n",
       "      <td>95.937927</td>\n",
       "      <td>17.246658</td>\n",
       "      <td>16.263860</td>\n",
       "    </tr>\n",
       "    <tr>\n",
       "      <th>min</th>\n",
       "      <td>2027.000000</td>\n",
       "      <td>2822.000000</td>\n",
       "      <td>5.000000</td>\n",
       "    </tr>\n",
       "    <tr>\n",
       "      <th>25%</th>\n",
       "      <td>2711.000000</td>\n",
       "      <td>2837.000000</td>\n",
       "      <td>36.000000</td>\n",
       "    </tr>\n",
       "    <tr>\n",
       "      <th>50%</th>\n",
       "      <td>2763.000000</td>\n",
       "      <td>2851.000000</td>\n",
       "      <td>44.000000</td>\n",
       "    </tr>\n",
       "    <tr>\n",
       "      <th>75%</th>\n",
       "      <td>2784.000000</td>\n",
       "      <td>2870.000000</td>\n",
       "      <td>56.000000</td>\n",
       "    </tr>\n",
       "    <tr>\n",
       "      <th>max</th>\n",
       "      <td>2900.000000</td>\n",
       "      <td>2886.000000</td>\n",
       "      <td>127.000000</td>\n",
       "    </tr>\n",
       "  </tbody>\n",
       "</table>\n",
       "</div>"
      ],
      "text/plain": [
       "       opponent_rating  player_rating       length\n",
       "count      1410.000000    1416.000000  1419.000000\n",
       "mean       2732.856738    2853.487994    46.693446\n",
       "std          95.937927      17.246658    16.263860\n",
       "min        2027.000000    2822.000000     5.000000\n",
       "25%        2711.000000    2837.000000    36.000000\n",
       "50%        2763.000000    2851.000000    44.000000\n",
       "75%        2784.000000    2870.000000    56.000000\n",
       "max        2900.000000    2886.000000   127.000000"
      ]
     },
     "execution_count": 22,
     "metadata": {},
     "output_type": "execute_result"
    }
   ],
   "source": [
    "magnus_df.describe()"
   ]
  },
  {
   "cell_type": "code",
   "execution_count": 6,
   "metadata": {},
   "outputs": [],
   "source": [
    "mask = magnus_df['opponent'].value_counts()\n",
    "magnus_df = magnus_df[magnus_df['opponent'].isin(mask.index[mask>1])]"
   ]
  },
  {
   "cell_type": "code",
   "execution_count": 7,
   "metadata": {},
   "outputs": [],
   "source": [
    "num_magnus_df = magnus_df[magnus_df.describe().columns]"
   ]
  },
  {
   "cell_type": "code",
   "execution_count": 8,
   "metadata": {},
   "outputs": [],
   "source": [
    "cat_magnus_df = magnus_df[['opponent', 'player_color', 'year', 'opening_moves', 'opening', 'opening_variant', 'result']]"
   ]
  },
  {
   "cell_type": "code",
   "execution_count": 9,
   "metadata": {},
   "outputs": [
    {
     "data": {
      "image/png": "[encoded data removed]",
      "text/plain": [
       "<Figure size 432x288 with 1 Axes>"
      ]
     },
     "metadata": {
      "needs_background": "light"
     },
     "output_type": "display_data"
    },
    {
     "data": {
      "image/png": "[encoded data removed]",
      "text/plain": [
       "<Figure size 432x288 with 1 Axes>"
      ]
     },
     "metadata": {
      "needs_background": "light"
     },
     "output_type": "display_data"
    },
    {
     "data": {
      "image/png": "[encoded data removed]",
      "text/plain": [
       "<Figure size 432x288 with 1 Axes>"
      ]
     },
     "metadata": {
      "needs_background": "light"
     },
     "output_type": "display_data"
    }
   ],
   "source": [
    "for column in num_magnus_df:\n",
    "    plt.hist(num_magnus_df[column])\n",
    "    plt.title(column)\n",
    "    plt.show()"
   ]
  },
  {
   "cell_type": "code",
   "execution_count": 10,
   "metadata": {},
   "outputs": [
    {
     "name": "stderr",
     "output_type": "stream",
     "text": [
      "/Library/anaconda3/envs/learn-env/lib/python3.8/site-packages/seaborn/_decorators.py:36: FutureWarning: Pass the following variables as keyword args: x, y. From version 0.12, the only valid positional argument will be `data`, and passing other arguments without an explicit keyword will result in an error or misinterpretation.\n",
      "  warnings.warn(\n"
     ]
    },
    {
     "data": {
      "image/png": "[encoded data removed]",
      "text/plain": [
       "<Figure size 432x288 with 1 Axes>"
      ]
     },
     "metadata": {
      "needs_background": "light"
     },
     "output_type": "display_data"
    },
    {
     "name": "stderr",
     "output_type": "stream",
     "text": [
      "/Library/anaconda3/envs/learn-env/lib/python3.8/site-packages/seaborn/_decorators.py:36: FutureWarning: Pass the following variables as keyword args: x, y. From version 0.12, the only valid positional argument will be `data`, and passing other arguments without an explicit keyword will result in an error or misinterpretation.\n",
      "  warnings.warn(\n"
     ]
    },
    {
     "data": {
      "image/png": "[encoded data removed]",
      "text/plain": [
       "<Figure size 432x288 with 1 Axes>"
      ]
     },
     "metadata": {
      "needs_background": "light"
     },
     "output_type": "display_data"
    },
    {
     "name": "stderr",
     "output_type": "stream",
     "text": [
      "/Library/anaconda3/envs/learn-env/lib/python3.8/site-packages/seaborn/_decorators.py:36: FutureWarning: Pass the following variables as keyword args: x, y. From version 0.12, the only valid positional argument will be `data`, and passing other arguments without an explicit keyword will result in an error or misinterpretation.\n",
      "  warnings.warn(\n"
     ]
    },
    {
     "data": {
      "image/png": "[encoded data removed]",
      "text/plain": [
       "<Figure size 432x288 with 1 Axes>"
      ]
     },
     "metadata": {
      "needs_background": "light"
     },
     "output_type": "display_data"
    },
    {
     "name": "stderr",
     "output_type": "stream",
     "text": [
      "/Library/anaconda3/envs/learn-env/lib/python3.8/site-packages/seaborn/_decorators.py:36: FutureWarning: Pass the following variables as keyword args: x, y. From version 0.12, the only valid positional argument will be `data`, and passing other arguments without an explicit keyword will result in an error or misinterpretation.\n",
      "  warnings.warn(\n"
     ]
    },
    {
     "data": {
      "image/png": "[encoded data removed]",
      "text/plain": [
       "<Figure size 432x288 with 1 Axes>"
      ]
     },
     "metadata": {
      "needs_background": "light"
     },
     "output_type": "display_data"
    },
    {
     "name": "stderr",
     "output_type": "stream",
     "text": [
      "/Library/anaconda3/envs/learn-env/lib/python3.8/site-packages/seaborn/_decorators.py:36: FutureWarning: Pass the following variables as keyword args: x, y. From version 0.12, the only valid positional argument will be `data`, and passing other arguments without an explicit keyword will result in an error or misinterpretation.\n",
      "  warnings.warn(\n"
     ]
    },
    {
     "data": {
      "image/png": "[encoded data removed]",
      "text/plain": [
       "<Figure size 432x288 with 1 Axes>"
      ]
     },
     "metadata": {
      "needs_background": "light"
     },
     "output_type": "display_data"
    },
    {
     "name": "stderr",
     "output_type": "stream",
     "text": [
      "/Library/anaconda3/envs/learn-env/lib/python3.8/site-packages/seaborn/_decorators.py:36: FutureWarning: Pass the following variables as keyword args: x, y. From version 0.12, the only valid positional argument will be `data`, and passing other arguments without an explicit keyword will result in an error or misinterpretation.\n",
      "  warnings.warn(\n"
     ]
    },
    {
     "data": {
      "image/png": "[encoded data removed]",
      "text/plain": [
       "<Figure size 432x288 with 1 Axes>"
      ]
     },
     "metadata": {
      "needs_background": "light"
     },
     "output_type": "display_data"
    },
    {
     "name": "stderr",
     "output_type": "stream",
     "text": [
      "/Library/anaconda3/envs/learn-env/lib/python3.8/site-packages/seaborn/_decorators.py:36: FutureWarning: Pass the following variables as keyword args: x, y. From version 0.12, the only valid positional argument will be `data`, and passing other arguments without an explicit keyword will result in an error or misinterpretation.\n",
      "  warnings.warn(\n"
     ]
    },
    {
     "data": {
      "image/png": "[encoded data removed]",
      "text/plain": [
       "<Figure size 432x288 with 1 Axes>"
      ]
     },
     "metadata": {
      "needs_background": "light"
     },
     "output_type": "display_data"
    }
   ],
   "source": [
    "for col in cat_magnus_df.columns:\n",
    "    sns.barplot(cat_magnus_df[col].value_counts().index, cat_magnus_df[col].value_counts()).set_title(col)\n",
    "    plt.show()"
   ]
  },
  {
   "cell_type": "code",
   "execution_count": 21,
   "metadata": {},
   "outputs": [
    {
     "name": "stdout",
     "output_type": "stream",
     "text": [
      "Hikaru Nakamura    106\n",
      "Name: opponent, dtype: int64\n",
      "Teimour Radjabov    28\n",
      "Name: opponent, dtype: int64\n",
      "Jan-Krzysztof Duda    13\n",
      "Name: opponent, dtype: int64\n",
      "Ding Liren    83\n",
      "Name: opponent, dtype: int64\n",
      "Alireza Firouzja    10\n",
      "Name: opponent, dtype: int64\n",
      "Fabiano Caruana    49\n",
      "Name: opponent, dtype: int64\n",
      "Ian Nepomniachtchi    57\n",
      "Name: opponent, dtype: int64\n",
      "Richard Rapport    9\n",
      "Name: opponent, dtype: int64\n"
     ]
    }
   ],
   "source": [
    "candidate_list = ['Hikaru Nakamura', 'Teimour Radjabov', 'Jan-Krzysztof Duda', 'Ding Liren', 'Alireza Firouzja', 'Fabiano Caruana', 'Ian Nepomniachtchi', 'Richard Rapport']\n",
    "\n",
    "for candidate in candidate_list: \n",
    "    print(magnus_df[magnus_df['opponent'] == candidate]['opponent'].value_counts())"
   ]
  },
  {
   "cell_type": "code",
   "execution_count": null,
   "metadata": {},
   "outputs": [],
   "source": []
  }
 ],
 "metadata": {
  "interpreter": {
   "hash": "dfff5bd0c134f0547de71482d92e26ad9816d2e72735de45c73d9aeb806ef98a"
  },
  "kernelspec": {
   "display_name": "Python 3.8.5 ('learn-env')",
   "language": "python",
   "name": "python3"
  },
  "language_info": {
   "codemirror_mode": {
    "name": "ipython",
    "version": 3
   },
   "file_extension": ".py",
   "mimetype": "text/x-python",
   "name": "python",
   "nbconvert_exporter": "python",
   "pygments_lexer": "ipython3",
   "version": "3.8.5"
  },
  "orig_nbformat": 4
 },
 "nbformat": 4,
 "nbformat_minor": 2
}
