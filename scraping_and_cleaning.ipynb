{
 "cells": [
  {
   "cell_type": "code",
   "execution_count": 1,
   "metadata": {},
   "outputs": [],
   "source": [
    "import requests\n",
    "from bs4 import BeautifulSoup\n",
    "import pandas as pd\n",
    "import numpy as np\n",
    "from scraping_helper_functions import cook_chess_soup, get_chess_data, cook_chess_game_soup\n",
    "from cleaning_helper_functions import player_df_cleanup, win_cleanup"
   ]
  },
  {
   "cell_type": "code",
   "execution_count": 2,
   "metadata": {},
   "outputs": [],
   "source": [
    "# This is an extremely important cell, very very necessary, DO NOT DELETE!\n",
    "def lentil(x):\n",
    "    return len(x)"
   ]
  },
  {
   "cell_type": "code",
   "execution_count": 3,
   "metadata": {},
   "outputs": [],
   "source": [
    "# URL = \"https://www.chess.com/games/search?opening=&openingId=&p1=Magnus+Carlsen&p2=&mr=&lsty=1&year=&lstMoves=1&moves=&fen=&sort=page=1\"\n",
    "# page = requests.get(URL)\n",
    "\n",
    "# soup = BeautifulSoup(page._content, \"html.parser\")"
   ]
  },
  {
   "cell_type": "markdown",
   "metadata": {},
   "source": [
    "Scrape Chess.com for all of Magnus's otb chess games"
   ]
  },
  {
   "cell_type": "code",
   "execution_count": 4,
   "metadata": {},
   "outputs": [],
   "source": [
    "# broth = soup.html.body.find('div', class_ = \"base-layout\").find('div', class_ = \"base-container\").main\n",
    "# veggies = broth.find('div', class_ = \"layout-column-one\").find(\"div\", class_ = \"v5-section\").find('div', class_ = \"v5-section-content-wide\").find_all('div', class_ = \"post-preview-list-component\")[2]\n",
    "# noodles = veggies.find('div', class_ = 'master-games-table-responsive').table.tbody\n",
    "# meats = noodles.find_all('tr')"
   ]
  },
  {
   "cell_type": "markdown",
   "metadata": {},
   "source": [
    "Now we have a list of table entries in html that contains data about each of Magnus's games (on this page at least)\n",
    "So, lets loop through this list and extract the important data into a dataframe "
   ]
  },
  {
   "cell_type": "markdown",
   "metadata": {},
   "source": [
    "Loop through the different pages and grab all the list elements containing data about Magnus's otb games"
   ]
  },
  {
   "cell_type": "code",
   "execution_count": 5,
   "metadata": {},
   "outputs": [],
   "source": [
    "html_data = []\n",
    "\n",
    "# Grab Magnus's games from chess.com up until 2015\n",
    "for num in range(0, 60):\n",
    "    URL = f\"https://www.chess.com/games/search?opening=&openingId=&p1=Magnus%20Carlsen&p2=&mr=&lsty=1&year=&lstMoves=1&moves=&fen=&sort=page%3D3&page={num}\"\n",
    "    html_data.extend(cook_chess_soup(URL))"
   ]
  },
  {
   "cell_type": "code",
   "execution_count": 6,
   "metadata": {},
   "outputs": [
    {
     "data": {
      "text/plain": [
       "1500"
      ]
     },
     "execution_count": 6,
     "metadata": {},
     "output_type": "execute_result"
    }
   ],
   "source": [
    "lentil(html_data)"
   ]
  },
  {
   "cell_type": "code",
   "execution_count": 7,
   "metadata": {},
   "outputs": [
    {
     "name": "stdout",
     "output_type": "stream",
     "text": [
      "White player rating nan\n",
      "Black player rating nan\n",
      "White player rating nan\n",
      "Black player rating nan\n",
      "White player rating nan\n",
      "Black player rating nan\n",
      "Black player rating nan\n",
      "Black player rating nan\n",
      "Black player rating nan\n",
      "Black player rating nan\n",
      "Black player rating nan\n",
      "Black player rating nan\n",
      "Black player rating nan\n",
      "Black player rating nan\n",
      "Black player rating nan\n",
      "Black player rating nan\n",
      "Black player rating nan\n"
     ]
    }
   ],
   "source": [
    "white_player_list = []\n",
    "white_player_rating_list = []\n",
    "black_player_list = []\n",
    "black_player_rating_list = []\n",
    "result_list = []\n",
    "game_length_list = []\n",
    "year_list = []\n",
    "opening_name_list = []\n",
    "opening_list = []\n",
    "game_url_list = []\n",
    "\n",
    "for chunk in html_data:\n",
    "    data = get_chess_data(chunk)\n",
    "\n",
    "    white_player_list.append(data[0])\n",
    "    white_player_rating_list.append(data[1])\n",
    "    black_player_list.append(data[2])\n",
    "    black_player_rating_list.append(data[3])\n",
    "    result_list.append(data[4])\n",
    "    game_length_list.append(data[5])\n",
    "    year_list.append(data[6])\n",
    "    opening_name_list.append(data[7])\n",
    "    opening_list.append(data[8])\n",
    "    game_url_list.append(data[9])"
   ]
  },
  {
   "cell_type": "markdown",
   "metadata": {},
   "source": [
    "Now that we have all the lists of data, build the dataframe"
   ]
  },
  {
   "cell_type": "code",
   "execution_count": 13,
   "metadata": {},
   "outputs": [
    {
     "ename": "IndexError",
     "evalue": "list index out of range",
     "output_type": "error",
     "traceback": [
      "\u001b[0;31m---------------------------------------------------------------------------\u001b[0m",
      "\u001b[0;31mIndexError\u001b[0m                                Traceback (most recent call last)",
      "\u001b[0;32m<ipython-input-13-a52ccca06e8a>\u001b[0m in \u001b[0;36m<module>\u001b[0;34m\u001b[0m\n\u001b[1;32m      6\u001b[0m     \u001b[0mURL\u001b[0m \u001b[0;34m=\u001b[0m \u001b[0;34mf'https://www.chess.com/analysis/game/master/{game_id}'\u001b[0m\u001b[0;34m\u001b[0m\u001b[0;34m\u001b[0m\u001b[0m\n\u001b[1;32m      7\u001b[0m \u001b[0;34m\u001b[0m\u001b[0m\n\u001b[0;32m----> 8\u001b[0;31m     \u001b[0mcook_chess_game_soup\u001b[0m\u001b[0;34m(\u001b[0m\u001b[0mURL\u001b[0m\u001b[0;34m)\u001b[0m\u001b[0;34m\u001b[0m\u001b[0;34m\u001b[0m\u001b[0m\n\u001b[0m\u001b[1;32m      9\u001b[0m \u001b[0;34m\u001b[0m\u001b[0m\n",
      "\u001b[0;32m~/Documents/Flatiron/Phase_3/dcs_phase_3_project/scraping_helper_functions.py\u001b[0m in \u001b[0;36mcook_chess_game_soup\u001b[0;34m(URL)\u001b[0m\n\u001b[1;32m    102\u001b[0m \u001b[0;34m\u001b[0m\u001b[0m\n\u001b[1;32m    103\u001b[0m     \u001b[0;31m#fetch the data from the page\u001b[0m\u001b[0;34m\u001b[0m\u001b[0;34m\u001b[0m\u001b[0;34m\u001b[0m\u001b[0m\n\u001b[0;32m--> 104\u001b[0;31m     \u001b[0mbroth\u001b[0m \u001b[0;34m=\u001b[0m \u001b[0msoup\u001b[0m\u001b[0;34m.\u001b[0m\u001b[0mhtml\u001b[0m\u001b[0;34m.\u001b[0m\u001b[0mbody\u001b[0m\u001b[0;31m#.find_all('div')#.find_all('div')[0].find_all('div')[1].find_all('div')\u001b[0m\u001b[0;34m\u001b[0m\u001b[0;34m\u001b[0m\u001b[0m\n\u001b[0m\u001b[1;32m    105\u001b[0m \u001b[0;34m\u001b[0m\u001b[0m\n\u001b[1;32m    106\u001b[0m     \u001b[0mprint\u001b[0m\u001b[0;34m(\u001b[0m\u001b[0mbroth\u001b[0m\u001b[0;34m)\u001b[0m\u001b[0;34m\u001b[0m\u001b[0;34m\u001b[0m\u001b[0m\n",
      "\u001b[0;31mIndexError\u001b[0m: list index out of range"
     ]
    }
   ],
   "source": [
    "# Get the additional data from the game_ids\n",
    "from scraping_helper_functions import cook_chess_game_soup\n",
    "\n",
    "for link in game_url_list:\n",
    "    game_id = link.split('/')[-1]\n",
    "    URL = f'https://www.chess.com/analysis/game/master/{game_id}'\n",
    "\n",
    "    cook_chess_game_soup(URL)\n",
    "    "
   ]
  },
  {
   "cell_type": "code",
   "execution_count": null,
   "metadata": {},
   "outputs": [],
   "source": [
    "games_df = pd.DataFrame()\n",
    "\n",
    "#There is probably a better way to do this but whatever\n",
    "games_df['white_player'] = white_player_list\n",
    "games_df['white_player_rating'] = white_player_rating_list\n",
    "games_df['black_player'] = black_player_list\n",
    "games_df['black_player_rating'] = black_player_rating_list\n",
    "games_df['result'] = result_list\n",
    "games_df['length'] = game_length_list\n",
    "games_df['year'] = year_list\n",
    "games_df['opening_name'] = opening_name_list\n",
    "games_df['opening_moves'] = opening_list\n"
   ]
  },
  {
   "cell_type": "code",
   "execution_count": null,
   "metadata": {},
   "outputs": [],
   "source": [
    "games_df.info()"
   ]
  },
  {
   "cell_type": "markdown",
   "metadata": {},
   "source": [
    "Ok, we have the data. Lets clean it."
   ]
  },
  {
   "cell_type": "code",
   "execution_count": null,
   "metadata": {},
   "outputs": [],
   "source": [
    "#Lets do the easy things first: cleaning the ratings, year, result, length, and opening\n",
    "games_df['result'] = games_df['result'].map(lambda x: x.strip())\n",
    "games_df['length'] = games_df['length'].map(lambda x: x.strip())\n",
    "games_df['opening_moves'] = games_df['opening_moves'].map(lambda x: x.strip())\n",
    "games_df['opening_name'] = games_df['opening_name'].map(lambda x: x.strip())"
   ]
  },
  {
   "cell_type": "code",
   "execution_count": null,
   "metadata": {},
   "outputs": [],
   "source": [
    "def rating_to_int(rating):\n",
    "    if type(rating) != float:\n",
    "        return int(rating[1:5])\n",
    "    else:\n",
    "        return rating"
   ]
  },
  {
   "cell_type": "code",
   "execution_count": null,
   "metadata": {},
   "outputs": [],
   "source": [
    "games_df['white_player_rating'] = games_df['white_player_rating'].map(rating_to_int)\n",
    "games_df['black_player_rating'] = games_df['black_player_rating'].map(rating_to_int)"
   ]
  },
  {
   "cell_type": "code",
   "execution_count": null,
   "metadata": {},
   "outputs": [],
   "source": [
    "games_df"
   ]
  },
  {
   "cell_type": "code",
   "execution_count": null,
   "metadata": {},
   "outputs": [],
   "source": [
    "games_df.info()"
   ]
  },
  {
   "cell_type": "code",
   "execution_count": null,
   "metadata": {},
   "outputs": [],
   "source": [
    "games_df['length'] = games_df['length'].astype('int64')"
   ]
  },
  {
   "cell_type": "code",
   "execution_count": null,
   "metadata": {},
   "outputs": [],
   "source": [
    "games_df.info()"
   ]
  },
  {
   "cell_type": "code",
   "execution_count": null,
   "metadata": {},
   "outputs": [],
   "source": [
    "games_df['result'].value_counts()"
   ]
  },
  {
   "cell_type": "code",
   "execution_count": null,
   "metadata": {},
   "outputs": [],
   "source": [
    "games_df['opening_name'].value_counts()"
   ]
  },
  {
   "cell_type": "code",
   "execution_count": null,
   "metadata": {},
   "outputs": [],
   "source": [
    "opening = []\n",
    "opening_variant = []\n",
    "for game in games_df['opening_name'].map(lambda x: x.split(':')):\n",
    "    opening.append(game[0])\n",
    "    try: \n",
    "        opening_variant.append(game[1])\n",
    "    except:\n",
    "        opening_variant.append(np.NaN)"
   ]
  },
  {
   "cell_type": "code",
   "execution_count": null,
   "metadata": {},
   "outputs": [],
   "source": [
    "games_df['opening'] = opening\n",
    "games_df['opening_variant'] = opening_variant\n",
    "\n",
    "games_df.drop(columns = 'opening_name', inplace = True)"
   ]
  },
  {
   "cell_type": "code",
   "execution_count": null,
   "metadata": {},
   "outputs": [],
   "source": [
    "len(games_df['opening'].value_counts())"
   ]
  },
  {
   "cell_type": "code",
   "execution_count": null,
   "metadata": {},
   "outputs": [],
   "source": [
    "games_df"
   ]
  },
  {
   "cell_type": "code",
   "execution_count": null,
   "metadata": {},
   "outputs": [],
   "source": [
    "player_df = games_df[['white_player', 'black_player', 'white_player_rating', 'black_player_rating']]"
   ]
  },
  {
   "cell_type": "code",
   "execution_count": null,
   "metadata": {},
   "outputs": [],
   "source": [
    "player_df"
   ]
  },
  {
   "cell_type": "code",
   "execution_count": null,
   "metadata": {},
   "outputs": [],
   "source": [
    "player_df = player_df.apply(player_df_cleanup, axis = 1, result_type = 'expand', name = 'Magnus Carlsen')"
   ]
  },
  {
   "cell_type": "code",
   "execution_count": null,
   "metadata": {},
   "outputs": [],
   "source": [
    "player_df"
   ]
  },
  {
   "cell_type": "code",
   "execution_count": null,
   "metadata": {},
   "outputs": [],
   "source": [
    "player_df.rename(columns = {0 : 'opponent', 1 : 'player_color', 2 : 'opponent_rating', 3 : 'player_rating'}, inplace = True)\n",
    "player_df"
   ]
  },
  {
   "cell_type": "code",
   "execution_count": null,
   "metadata": {},
   "outputs": [],
   "source": [
    "games_df = games_df.drop(columns = ['white_player', 'black_player', 'white_player_rating', 'black_player_rating'])"
   ]
  },
  {
   "cell_type": "code",
   "execution_count": null,
   "metadata": {},
   "outputs": [],
   "source": [
    "player_df = player_df.join(games_df)"
   ]
  },
  {
   "cell_type": "code",
   "execution_count": null,
   "metadata": {},
   "outputs": [],
   "source": [
    "win_loss_df = player_df.apply(win_cleanup, axis = 1, result_type = 'expand')"
   ]
  },
  {
   "cell_type": "code",
   "execution_count": null,
   "metadata": {},
   "outputs": [],
   "source": [
    "magnus_df = player_df.join(win_loss_df)"
   ]
  },
  {
   "cell_type": "code",
   "execution_count": null,
   "metadata": {},
   "outputs": [],
   "source": [
    "magnus_df[['result', 0, 'player_color']]"
   ]
  },
  {
   "cell_type": "code",
   "execution_count": null,
   "metadata": {},
   "outputs": [],
   "source": [
    "magnus_df.drop(columns = 'result', inplace = True)\n",
    "magnus_df.rename(columns = {0: 'result'}, inplace = True)"
   ]
  },
  {
   "cell_type": "code",
   "execution_count": null,
   "metadata": {},
   "outputs": [],
   "source": [
    "magnus_df.to_pickle('./magnus.pkl')"
   ]
  }
 ],
 "metadata": {
  "interpreter": {
   "hash": "2727b2a22fa54fc80c442d9882c796b170b7ece9140881dba5a5b9a9bde47675"
  },
  "kernelspec": {
   "display_name": "Python (learn-env)",
   "language": "python",
   "name": "learn-env"
  },
  "language_info": {
   "codemirror_mode": {
    "name": "ipython",
    "version": 3
   },
   "file_extension": ".py",
   "mimetype": "text/x-python",
   "name": "python",
   "nbconvert_exporter": "python",
   "pygments_lexer": "ipython3",
   "version": "3.8.5"
  },
  "orig_nbformat": 4
 },
 "nbformat": 4,
 "nbformat_minor": 2
}
