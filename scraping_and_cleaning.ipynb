{
 "cells": [
  {
   "cell_type": "code",
   "execution_count": 1,
   "metadata": {},
   "outputs": [],
   "source": [
    "import requests\n",
    "from bs4 import BeautifulSoup\n",
    "import pandas as pd\n",
    "import numpy as np\n",
    "from scraping_helper_functions import cook_chess_soup\n",
    "from scraping_helper_functions import get_chess_data"
   ]
  },
  {
   "cell_type": "code",
   "execution_count": 2,
   "metadata": {},
   "outputs": [],
   "source": [
    "# This is an extremely important cell, very very necessary\n",
    "def lentil(x):\n",
    "    return len(x)"
   ]
  },
  {
   "cell_type": "code",
   "execution_count": 3,
   "metadata": {},
   "outputs": [],
   "source": [
    "# URL = \"https://www.chess.com/games/search?opening=&openingId=&p1=Magnus+Carlsen&p2=&mr=&lsty=1&year=&lstMoves=1&moves=&fen=&sort=page=1\"\n",
    "# page = requests.get(URL)\n",
    "\n",
    "# soup = BeautifulSoup(page._content, \"html.parser\")"
   ]
  },
  {
   "cell_type": "markdown",
   "metadata": {},
   "source": [
    "Scrape Chess.com for all of Magnus's otb chess games"
   ]
  },
  {
   "cell_type": "code",
   "execution_count": 4,
   "metadata": {},
   "outputs": [],
   "source": [
    "# broth = soup.html.body.find('div', class_ = \"base-layout\").find('div', class_ = \"base-container\").main\n",
    "# veggies = broth.find('div', class_ = \"layout-column-one\").find(\"div\", class_ = \"v5-section\").find('div', class_ = \"v5-section-content-wide\").find_all('div', class_ = \"post-preview-list-component\")[2]\n",
    "# noodles = veggies.find('div', class_ = 'master-games-table-responsive').table.tbody\n",
    "# meats = noodles.find_all('tr')"
   ]
  },
  {
   "cell_type": "markdown",
   "metadata": {},
   "source": [
    "Now we have a list of table entries in html that contains data about each of Magnus's games (on this page at least)\n",
    "So, lets loop through this list and extract the important data into a dataframe "
   ]
  },
  {
   "cell_type": "markdown",
   "metadata": {},
   "source": [
    "Loop through the different pages and grab all the list elements containing data about Magnus's otb games"
   ]
  },
  {
   "cell_type": "code",
   "execution_count": 5,
   "metadata": {},
   "outputs": [],
   "source": [
    "html_data = []\n",
    "\n",
    "# Right now this only scrapes games up until 2015 (the first 60 pages)\n",
    "for num in range(0, 60):\n",
    "    URL = f\"https://www.chess.com/games/search?opening=&openingId=&p1=Magnus%20Carlsen&p2=&mr=&lsty=1&year=&lstMoves=1&moves=&fen=&sort=page%3D3&page={num}\"\n",
    "    html_data.extend(cook_chess_soup(URL))"
   ]
  },
  {
   "cell_type": "code",
   "execution_count": 33,
   "metadata": {},
   "outputs": [
    {
     "data": {
      "text/plain": [
       "1470"
      ]
     },
     "execution_count": 33,
     "metadata": {},
     "output_type": "execute_result"
    }
   ],
   "source": [
    "lentil(html_data)"
   ]
  },
  {
   "cell_type": "code",
   "execution_count": 18,
   "metadata": {},
   "outputs": [
    {
     "name": "stdout",
     "output_type": "stream",
     "text": [
      "White player rating nan\n",
      "Black player rating nan\n",
      "White player rating nan\n",
      "Black player rating nan\n",
      "White player rating nan\n",
      "Black player rating nan\n",
      "Black player rating nan\n",
      "Black player rating nan\n",
      "Black player rating nan\n",
      "Black player rating nan\n",
      "Black player rating nan\n",
      "Black player rating nan\n",
      "Black player rating nan\n",
      "Black player rating nan\n",
      "Black player rating nan\n",
      "Black player rating nan\n",
      "Black player rating nan\n"
     ]
    }
   ],
   "source": [
    "white_player_list = []\n",
    "white_player_rating_list = []\n",
    "black_player_list = []\n",
    "black_player_rating_list = []\n",
    "result_list = []\n",
    "game_length_list = []\n",
    "year_list = []\n",
    "opening_name_list = []\n",
    "opening_list = []\n",
    "\n",
    "for chunk in html_data:\n",
    "    data = get_chess_data(chunk)\n",
    "\n",
    "    white_player_list.append(data[0])\n",
    "    white_player_rating_list.append(data[1])\n",
    "    black_player_list.append(data[2])\n",
    "    black_player_rating_list.append(data[3])\n",
    "    result_list.append(data[4])\n",
    "    game_length_list.append(data[5])\n",
    "    year_list.append(data[6])\n",
    "    opening_name_list.append(data[7])\n",
    "    opening_list.append(data[8])"
   ]
  },
  {
   "cell_type": "markdown",
   "metadata": {},
   "source": [
    "Now that we have all the lists of data, build the dataframe"
   ]
  },
  {
   "cell_type": "code",
   "execution_count": 24,
   "metadata": {},
   "outputs": [],
   "source": [
    "games_df = pd.DataFrame()\n",
    "\n",
    "#There is probably a better way to do this but whatever\n",
    "games_df['white_player'] = white_player_list\n",
    "games_df['white_player_rating'] = white_player_rating_list\n",
    "games_df['black_player'] = black_player_list\n",
    "games_df['black_player_rating'] = black_player_rating_list\n",
    "games_df['result'] = result_list\n",
    "games_df['length'] = game_length_list\n",
    "games_df['year'] = year_list\n",
    "games_df['opening_name'] = opening_name_list\n",
    "games_df['opening_moves'] = opening_list"
   ]
  },
  {
   "cell_type": "code",
   "execution_count": 25,
   "metadata": {},
   "outputs": [
    {
     "name": "stdout",
     "output_type": "stream",
     "text": [
      "<class 'pandas.core.frame.DataFrame'>\n",
      "RangeIndex: 1470 entries, 0 to 1469\n",
      "Data columns (total 9 columns):\n",
      " #   Column               Non-Null Count  Dtype \n",
      "---  ------               --------------  ----- \n",
      " 0   white_player         1470 non-null   object\n",
      " 1   white_player_rating  1467 non-null   object\n",
      " 2   black_player         1470 non-null   object\n",
      " 3   black_player_rating  1456 non-null   object\n",
      " 4   result               1470 non-null   object\n",
      " 5   length               1470 non-null   object\n",
      " 6   year                 1470 non-null   object\n",
      " 7   opening_name         1470 non-null   object\n",
      " 8   opening_moves        1470 non-null   object\n",
      "dtypes: object(9)\n",
      "memory usage: 103.5+ KB\n"
     ]
    }
   ],
   "source": [
    "games_df.info()"
   ]
  },
  {
   "cell_type": "code",
   "execution_count": 31,
   "metadata": {},
   "outputs": [
    {
     "data": {
      "text/plain": [
       "str"
      ]
     },
     "execution_count": 31,
     "metadata": {},
     "output_type": "execute_result"
    }
   ],
   "source": []
  },
  {
   "cell_type": "markdown",
   "metadata": {},
   "source": [
    "Ok, we have the data. Lets clean it."
   ]
  },
  {
   "cell_type": "code",
   "execution_count": 32,
   "metadata": {},
   "outputs": [
    {
     "ename": "AttributeError",
     "evalue": "'Series' object has no attribute 'info'",
     "output_type": "error",
     "traceback": [
      "\u001b[0;31m---------------------------------------------------------------------------\u001b[0m",
      "\u001b[0;31mAttributeError\u001b[0m                            Traceback (most recent call last)",
      "\u001b[0;32m<ipython-input-32-1a917c66ead9>\u001b[0m in \u001b[0;36m<module>\u001b[0;34m\u001b[0m\n\u001b[1;32m      5\u001b[0m \u001b[0mgames_df\u001b[0m\u001b[0;34m[\u001b[0m\u001b[0;34m'opening_name'\u001b[0m\u001b[0;34m]\u001b[0m \u001b[0;34m=\u001b[0m \u001b[0mgames_df\u001b[0m\u001b[0;34m[\u001b[0m\u001b[0;34m'opening_name'\u001b[0m\u001b[0;34m]\u001b[0m\u001b[0;34m.\u001b[0m\u001b[0mmap\u001b[0m\u001b[0;34m(\u001b[0m\u001b[0;32mlambda\u001b[0m \u001b[0mx\u001b[0m\u001b[0;34m:\u001b[0m \u001b[0mx\u001b[0m\u001b[0;34m.\u001b[0m\u001b[0mstrip\u001b[0m\u001b[0;34m(\u001b[0m\u001b[0;34m)\u001b[0m\u001b[0;34m)\u001b[0m\u001b[0;34m\u001b[0m\u001b[0;34m\u001b[0m\u001b[0m\n\u001b[1;32m      6\u001b[0m \u001b[0;34m\u001b[0m\u001b[0m\n\u001b[0;32m----> 7\u001b[0;31m \u001b[0mgames_df\u001b[0m\u001b[0;34m[\u001b[0m\u001b[0;34m'white_player_rating'\u001b[0m\u001b[0;34m]\u001b[0m\u001b[0;34m.\u001b[0m\u001b[0minfo\u001b[0m\u001b[0;34m(\u001b[0m\u001b[0;34m)\u001b[0m\u001b[0;34m\u001b[0m\u001b[0;34m\u001b[0m\u001b[0m\n\u001b[0m\u001b[1;32m      8\u001b[0m \u001b[0;34m\u001b[0m\u001b[0m\n\u001b[1;32m      9\u001b[0m \u001b[0mgames_df\u001b[0m\u001b[0;34m\u001b[0m\u001b[0;34m\u001b[0m\u001b[0m\n",
      "\u001b[0;32m/Library/anaconda3/envs/learn-env/lib/python3.8/site-packages/pandas/core/generic.py\u001b[0m in \u001b[0;36m__getattr__\u001b[0;34m(self, name)\u001b[0m\n\u001b[1;32m   5137\u001b[0m             \u001b[0;32mif\u001b[0m \u001b[0mself\u001b[0m\u001b[0;34m.\u001b[0m\u001b[0m_info_axis\u001b[0m\u001b[0;34m.\u001b[0m\u001b[0m_can_hold_identifiers_and_holds_name\u001b[0m\u001b[0;34m(\u001b[0m\u001b[0mname\u001b[0m\u001b[0;34m)\u001b[0m\u001b[0;34m:\u001b[0m\u001b[0;34m\u001b[0m\u001b[0;34m\u001b[0m\u001b[0m\n\u001b[1;32m   5138\u001b[0m                 \u001b[0;32mreturn\u001b[0m \u001b[0mself\u001b[0m\u001b[0;34m[\u001b[0m\u001b[0mname\u001b[0m\u001b[0;34m]\u001b[0m\u001b[0;34m\u001b[0m\u001b[0;34m\u001b[0m\u001b[0m\n\u001b[0;32m-> 5139\u001b[0;31m             \u001b[0;32mreturn\u001b[0m \u001b[0mobject\u001b[0m\u001b[0;34m.\u001b[0m\u001b[0m__getattribute__\u001b[0m\u001b[0;34m(\u001b[0m\u001b[0mself\u001b[0m\u001b[0;34m,\u001b[0m \u001b[0mname\u001b[0m\u001b[0;34m)\u001b[0m\u001b[0;34m\u001b[0m\u001b[0;34m\u001b[0m\u001b[0m\n\u001b[0m\u001b[1;32m   5140\u001b[0m \u001b[0;34m\u001b[0m\u001b[0m\n\u001b[1;32m   5141\u001b[0m     \u001b[0;32mdef\u001b[0m \u001b[0m__setattr__\u001b[0m\u001b[0;34m(\u001b[0m\u001b[0mself\u001b[0m\u001b[0;34m,\u001b[0m \u001b[0mname\u001b[0m\u001b[0;34m:\u001b[0m \u001b[0mstr\u001b[0m\u001b[0;34m,\u001b[0m \u001b[0mvalue\u001b[0m\u001b[0;34m)\u001b[0m \u001b[0;34m->\u001b[0m \u001b[0;32mNone\u001b[0m\u001b[0;34m:\u001b[0m\u001b[0;34m\u001b[0m\u001b[0;34m\u001b[0m\u001b[0m\n",
      "\u001b[0;31mAttributeError\u001b[0m: 'Series' object has no attribute 'info'"
     ]
    }
   ],
   "source": [
    "#Lets do the easy things first: cleaning the ratings, year, result, length, and opening\n",
    "games_df['result'] = games_df['result'].map(lambda x: x.strip())\n",
    "games_df['length'] = games_df['length'].map(lambda x: x.strip())\n",
    "games_df['opening_moves'] = games_df['opening_moves'].map(lambda x: x.strip())\n",
    "games_df['opening_name'] = games_df['opening_name'].map(lambda x: x.strip())\n",
    "\n",
    "games_df"
   ]
  },
  {
   "cell_type": "code",
   "execution_count": 40,
   "metadata": {},
   "outputs": [],
   "source": [
    "def rating_to_int(rating):\n",
    "    if type(rating) != float:\n",
    "        return int(rating[1:5])\n",
    "    else:\n",
    "        return rating"
   ]
  },
  {
   "cell_type": "code",
   "execution_count": 41,
   "metadata": {},
   "outputs": [],
   "source": [
    "games_df['white_player_rating'] = games_df['white_player_rating'].map(rating_to_int)\n",
    "games_df['black_player_rating'] = games_df['black_player_rating'].map(rating_to_int)"
   ]
  },
  {
   "cell_type": "code",
   "execution_count": 44,
   "metadata": {},
   "outputs": [
    {
     "data": {
      "text/html": [
       "<div>\n",
       "<style scoped>\n",
       "    .dataframe tbody tr th:only-of-type {\n",
       "        vertical-align: middle;\n",
       "    }\n",
       "\n",
       "    .dataframe tbody tr th {\n",
       "        vertical-align: top;\n",
       "    }\n",
       "\n",
       "    .dataframe thead th {\n",
       "        text-align: right;\n",
       "    }\n",
       "</style>\n",
       "<table border=\"1\" class=\"dataframe\">\n",
       "  <thead>\n",
       "    <tr style=\"text-align: right;\">\n",
       "      <th></th>\n",
       "      <th>white_player</th>\n",
       "      <th>white_player_rating</th>\n",
       "      <th>black_player</th>\n",
       "      <th>black_player_rating</th>\n",
       "      <th>result</th>\n",
       "      <th>length</th>\n",
       "      <th>year</th>\n",
       "      <th>opening_name</th>\n",
       "      <th>opening_moves</th>\n",
       "    </tr>\n",
       "  </thead>\n",
       "  <tbody>\n",
       "    <tr>\n",
       "      <th>0</th>\n",
       "      <td>Magnus Carlsen</td>\n",
       "      <td>2881.0</td>\n",
       "      <td>Wesley So</td>\n",
       "      <td>2741.0</td>\n",
       "      <td>½-½</td>\n",
       "      <td>29</td>\n",
       "      <td>2021</td>\n",
       "      <td>Ruy López Opening: Berlin, Rio Gambit Accepted...</td>\n",
       "      <td>1. e4 e5 2. Nf3 Nc6 3. Bb5 Nf6</td>\n",
       "    </tr>\n",
       "    <tr>\n",
       "      <th>1</th>\n",
       "      <td>Wesley So</td>\n",
       "      <td>2816.0</td>\n",
       "      <td>Magnus Carlsen</td>\n",
       "      <td>2886.0</td>\n",
       "      <td>0-1</td>\n",
       "      <td>36</td>\n",
       "      <td>2021</td>\n",
       "      <td>Sicilian Defense: Canal Attack, 3...Nd7 4.O-O ...</td>\n",
       "      <td>1. e4 c5 2. Nf3 d6 3. Bb5+ Nd7</td>\n",
       "    </tr>\n",
       "    <tr>\n",
       "      <th>2</th>\n",
       "      <td>Hikaru Nakamura</td>\n",
       "      <td>2736.0</td>\n",
       "      <td>Magnus Carlsen</td>\n",
       "      <td>2847.0</td>\n",
       "      <td>½-½</td>\n",
       "      <td>38</td>\n",
       "      <td>2021</td>\n",
       "      <td>Ruy López Opening: Berlin Defense, 4.d3 Bc5</td>\n",
       "      <td>1. e4 e5 2. Nf3 Nc6 3. Bb5 Nf6</td>\n",
       "    </tr>\n",
       "    <tr>\n",
       "      <th>3</th>\n",
       "      <td>Santosh Gujrathi Vidit</td>\n",
       "      <td>2726.0</td>\n",
       "      <td>Magnus Carlsen</td>\n",
       "      <td>2847.0</td>\n",
       "      <td>½-½</td>\n",
       "      <td>75</td>\n",
       "      <td>2021</td>\n",
       "      <td>Nimzo-Indian Defense: Classical, Noa Variation...</td>\n",
       "      <td>1. d4 Nf6 2. c4 e6 3. Nc3 Bb4</td>\n",
       "    </tr>\n",
       "    <tr>\n",
       "      <th>4</th>\n",
       "      <td>Etienne Bacrot</td>\n",
       "      <td>2678.0</td>\n",
       "      <td>Magnus Carlsen</td>\n",
       "      <td>2847.0</td>\n",
       "      <td>0-1</td>\n",
       "      <td>44</td>\n",
       "      <td>2021</td>\n",
       "      <td>Ruy López Opening: Morphy Defense, Anti-Marsha...</td>\n",
       "      <td>1. e4 e5 2. Nf3 Nc6 3. Bb5 a6</td>\n",
       "    </tr>\n",
       "    <tr>\n",
       "      <th>...</th>\n",
       "      <td>...</td>\n",
       "      <td>...</td>\n",
       "      <td>...</td>\n",
       "      <td>...</td>\n",
       "      <td>...</td>\n",
       "      <td>...</td>\n",
       "      <td>...</td>\n",
       "      <td>...</td>\n",
       "      <td>...</td>\n",
       "    </tr>\n",
       "    <tr>\n",
       "      <th>1465</th>\n",
       "      <td>Magnus Carlsen</td>\n",
       "      <td>2876.0</td>\n",
       "      <td>Veselin Topalov</td>\n",
       "      <td>2798.0</td>\n",
       "      <td>0-1</td>\n",
       "      <td>60</td>\n",
       "      <td>2015</td>\n",
       "      <td>Semi-Slav Defense</td>\n",
       "      <td>1. d4 d5 2. c4 c6 3. Nf3 Nf6</td>\n",
       "    </tr>\n",
       "    <tr>\n",
       "      <th>1466</th>\n",
       "      <td>Magnus Carlsen</td>\n",
       "      <td>2862.0</td>\n",
       "      <td>Ivan Saric</td>\n",
       "      <td>2666.0</td>\n",
       "      <td>½-½</td>\n",
       "      <td>49</td>\n",
       "      <td>2015</td>\n",
       "      <td>Sicilian Defense: Old Sicilian Variation</td>\n",
       "      <td>1. e4 c5 2. Nf3 Nc6 3. Nc3 Nf6</td>\n",
       "    </tr>\n",
       "    <tr>\n",
       "      <th>1467</th>\n",
       "      <td>Magnus Carlsen</td>\n",
       "      <td>2853.0</td>\n",
       "      <td>Maxime Vachier-Lagrave</td>\n",
       "      <td>2731.0</td>\n",
       "      <td>1-0</td>\n",
       "      <td>43</td>\n",
       "      <td>2015</td>\n",
       "      <td>English Opening: Anglo-Indian, King's Indian D...</td>\n",
       "      <td>1. Nf3 Nf6 2. c4 g6 3. g3 Bg7</td>\n",
       "    </tr>\n",
       "    <tr>\n",
       "      <th>1468</th>\n",
       "      <td>Magnus Carlsen</td>\n",
       "      <td>2853.0</td>\n",
       "      <td>Alexander Grischuk</td>\n",
       "      <td>2771.0</td>\n",
       "      <td>0-1</td>\n",
       "      <td>66</td>\n",
       "      <td>2015</td>\n",
       "      <td>Sicilian Defense: Open, Najdorf, Opočenský Var...</td>\n",
       "      <td>1. e4 c5 2. Nf3 d6 3. d4 cxd4</td>\n",
       "    </tr>\n",
       "    <tr>\n",
       "      <th>1469</th>\n",
       "      <td>Magnus Carlsen</td>\n",
       "      <td>2850.0</td>\n",
       "      <td>Ioannis Papaioannou</td>\n",
       "      <td>2638.0</td>\n",
       "      <td>½-½</td>\n",
       "      <td>41</td>\n",
       "      <td>2015</td>\n",
       "      <td>Bogo-Indian Defense: Nimzowitsch Variation</td>\n",
       "      <td>1. d4 Nf6 2. c4 e6 3. Nf3 Bb4+</td>\n",
       "    </tr>\n",
       "  </tbody>\n",
       "</table>\n",
       "<p>1470 rows × 9 columns</p>\n",
       "</div>"
      ],
      "text/plain": [
       "                white_player  white_player_rating            black_player  \\\n",
       "0             Magnus Carlsen               2881.0               Wesley So   \n",
       "1                  Wesley So               2816.0          Magnus Carlsen   \n",
       "2            Hikaru Nakamura               2736.0          Magnus Carlsen   \n",
       "3     Santosh Gujrathi Vidit               2726.0          Magnus Carlsen   \n",
       "4             Etienne Bacrot               2678.0          Magnus Carlsen   \n",
       "...                      ...                  ...                     ...   \n",
       "1465          Magnus Carlsen               2876.0         Veselin Topalov   \n",
       "1466          Magnus Carlsen               2862.0              Ivan Saric   \n",
       "1467          Magnus Carlsen               2853.0  Maxime Vachier-Lagrave   \n",
       "1468          Magnus Carlsen               2853.0      Alexander Grischuk   \n",
       "1469          Magnus Carlsen               2850.0     Ioannis Papaioannou   \n",
       "\n",
       "      black_player_rating result length  year  \\\n",
       "0                  2741.0    ½-½     29  2021   \n",
       "1                  2886.0    0-1     36  2021   \n",
       "2                  2847.0    ½-½     38  2021   \n",
       "3                  2847.0    ½-½     75  2021   \n",
       "4                  2847.0    0-1     44  2021   \n",
       "...                   ...    ...    ...   ...   \n",
       "1465               2798.0    0-1     60  2015   \n",
       "1466               2666.0    ½-½     49  2015   \n",
       "1467               2731.0    1-0     43  2015   \n",
       "1468               2771.0    0-1     66  2015   \n",
       "1469               2638.0    ½-½     41  2015   \n",
       "\n",
       "                                           opening_name  \\\n",
       "0     Ruy López Opening: Berlin, Rio Gambit Accepted...   \n",
       "1     Sicilian Defense: Canal Attack, 3...Nd7 4.O-O ...   \n",
       "2           Ruy López Opening: Berlin Defense, 4.d3 Bc5   \n",
       "3     Nimzo-Indian Defense: Classical, Noa Variation...   \n",
       "4     Ruy López Opening: Morphy Defense, Anti-Marsha...   \n",
       "...                                                 ...   \n",
       "1465                                  Semi-Slav Defense   \n",
       "1466           Sicilian Defense: Old Sicilian Variation   \n",
       "1467  English Opening: Anglo-Indian, King's Indian D...   \n",
       "1468  Sicilian Defense: Open, Najdorf, Opočenský Var...   \n",
       "1469         Bogo-Indian Defense: Nimzowitsch Variation   \n",
       "\n",
       "                       opening_moves  \n",
       "0     1. e4 e5 2. Nf3 Nc6 3. Bb5 Nf6  \n",
       "1     1. e4 c5 2. Nf3 d6 3. Bb5+ Nd7  \n",
       "2     1. e4 e5 2. Nf3 Nc6 3. Bb5 Nf6  \n",
       "3      1. d4 Nf6 2. c4 e6 3. Nc3 Bb4  \n",
       "4      1. e4 e5 2. Nf3 Nc6 3. Bb5 a6  \n",
       "...                              ...  \n",
       "1465    1. d4 d5 2. c4 c6 3. Nf3 Nf6  \n",
       "1466  1. e4 c5 2. Nf3 Nc6 3. Nc3 Nf6  \n",
       "1467   1. Nf3 Nf6 2. c4 g6 3. g3 Bg7  \n",
       "1468   1. e4 c5 2. Nf3 d6 3. d4 cxd4  \n",
       "1469  1. d4 Nf6 2. c4 e6 3. Nf3 Bb4+  \n",
       "\n",
       "[1470 rows x 9 columns]"
      ]
     },
     "execution_count": 44,
     "metadata": {},
     "output_type": "execute_result"
    }
   ],
   "source": [
    "games_df"
   ]
  },
  {
   "cell_type": "code",
   "execution_count": null,
   "metadata": {},
   "outputs": [],
   "source": []
  }
 ],
 "metadata": {
  "interpreter": {
   "hash": "dfff5bd0c134f0547de71482d92e26ad9816d2e72735de45c73d9aeb806ef98a"
  },
  "kernelspec": {
   "display_name": "Python (learn-env)",
   "language": "python",
   "name": "learn-env"
  },
  "language_info": {
   "codemirror_mode": {
    "name": "ipython",
    "version": 3
   },
   "file_extension": ".py",
   "mimetype": "text/x-python",
   "name": "python",
   "nbconvert_exporter": "python",
   "pygments_lexer": "ipython3",
   "version": "3.8.5"
  },
  "orig_nbformat": 4
 },
 "nbformat": 4,
 "nbformat_minor": 2
}
