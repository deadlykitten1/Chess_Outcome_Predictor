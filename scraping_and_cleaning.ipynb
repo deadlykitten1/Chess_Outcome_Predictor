{
 "cells": [
  {
   "cell_type": "code",
   "execution_count": 2,
   "metadata": {},
   "outputs": [],
   "source": [
    "import requests\n",
    "from bs4 import BeautifulSoup\n",
    "import pandas as pd\n",
    "import numpy as np\n",
    "from scraping_helper_functions import cook_chess_soup\n",
    "from scraping_helper_functions import get_chess_data"
   ]
  },
  {
   "cell_type": "code",
   "execution_count": 3,
   "metadata": {},
   "outputs": [],
   "source": [
    "# This is an extremely important cell, very very necessary\n",
    "def lentil(x):\n",
    "    return len(x)"
   ]
  },
  {
   "cell_type": "code",
   "execution_count": 4,
   "metadata": {},
   "outputs": [],
   "source": [
    "# URL = \"https://www.chess.com/games/search?opening=&openingId=&p1=Magnus+Carlsen&p2=&mr=&lsty=1&year=&lstMoves=1&moves=&fen=&sort=page=1\"\n",
    "# page = requests.get(URL)\n",
    "\n",
    "# soup = BeautifulSoup(page._content, \"html.parser\")"
   ]
  },
  {
   "cell_type": "markdown",
   "metadata": {},
   "source": [
    "Scrape Chess.com for all of Magnus's otb chess games"
   ]
  },
  {
   "cell_type": "code",
   "execution_count": 5,
   "metadata": {},
   "outputs": [],
   "source": [
    "# broth = soup.html.body.find('div', class_ = \"base-layout\").find('div', class_ = \"base-container\").main\n",
    "# veggies = broth.find('div', class_ = \"layout-column-one\").find(\"div\", class_ = \"v5-section\").find('div', class_ = \"v5-section-content-wide\").find_all('div', class_ = \"post-preview-list-component\")[2]\n",
    "# noodles = veggies.find('div', class_ = 'master-games-table-responsive').table.tbody\n",
    "# meats = noodles.find_all('tr')"
   ]
  },
  {
   "cell_type": "markdown",
   "metadata": {},
   "source": [
    "Now we have a list of table entries in html that contains data about each of Magnus's games (on this page at least)\n",
    "So, lets loop through this list and extract the important data into a dataframe "
   ]
  },
  {
   "cell_type": "markdown",
   "metadata": {},
   "source": [
    "Loop through the different pages and grab all the list elements containing data about Magnus's otb games"
   ]
  },
  {
   "cell_type": "code",
   "execution_count": 6,
   "metadata": {},
   "outputs": [],
   "source": [
    "html_data = []\n",
    "\n",
    "# Right now this only scrapes games up until 2015 (the first 60 pages)\n",
    "for num in range(0, 60):\n",
    "    URL = f\"https://www.chess.com/games/search?opening=&openingId=&p1=Magnus%20Carlsen&p2=&mr=&lsty=1&year=&lstMoves=1&moves=&fen=&sort=page%3D3&page={num}\"\n",
    "    html_data.extend(cook_chess_soup(URL))"
   ]
  },
  {
   "cell_type": "code",
   "execution_count": 7,
   "metadata": {},
   "outputs": [
    {
     "data": {
      "text/plain": [
       "1500"
      ]
     },
     "execution_count": 7,
     "metadata": {},
     "output_type": "execute_result"
    }
   ],
   "source": [
    "lentil(html_data)"
   ]
  },
  {
   "cell_type": "code",
   "execution_count": 8,
   "metadata": {},
   "outputs": [
    {
     "name": "stdout",
     "output_type": "stream",
     "text": [
      "White player rating nan\n",
      "Black player rating nan\n",
      "White player rating nan\n",
      "Black player rating nan\n",
      "White player rating nan\n",
      "Black player rating nan\n",
      "Black player rating nan\n",
      "Black player rating nan\n",
      "Black player rating nan\n",
      "Black player rating nan\n",
      "Black player rating nan\n",
      "Black player rating nan\n",
      "Black player rating nan\n",
      "Black player rating nan\n",
      "Black player rating nan\n",
      "Black player rating nan\n",
      "Black player rating nan\n"
     ]
    }
   ],
   "source": [
    "white_player_list = []\n",
    "white_player_rating_list = []\n",
    "black_player_list = []\n",
    "black_player_rating_list = []\n",
    "result_list = []\n",
    "game_length_list = []\n",
    "year_list = []\n",
    "opening_name_list = []\n",
    "opening_list = []\n",
    "\n",
    "for chunk in html_data:\n",
    "    data = get_chess_data(chunk)\n",
    "\n",
    "    white_player_list.append(data[0])\n",
    "    white_player_rating_list.append(data[1])\n",
    "    black_player_list.append(data[2])\n",
    "    black_player_rating_list.append(data[3])\n",
    "    result_list.append(data[4])\n",
    "    game_length_list.append(data[5])\n",
    "    year_list.append(data[6])\n",
    "    opening_name_list.append(data[7])\n",
    "    opening_list.append(data[8])"
   ]
  },
  {
   "cell_type": "markdown",
   "metadata": {},
   "source": [
    "Now that we have all the lists of data, build the dataframe"
   ]
  },
  {
   "cell_type": "code",
   "execution_count": 9,
   "metadata": {},
   "outputs": [],
   "source": [
    "games_df = pd.DataFrame()\n",
    "\n",
    "#There is probably a better way to do this but whatever\n",
    "games_df['white_player'] = white_player_list\n",
    "games_df['white_player_rating'] = white_player_rating_list\n",
    "games_df['black_player'] = black_player_list\n",
    "games_df['black_player_rating'] = black_player_rating_list\n",
    "games_df['result'] = result_list\n",
    "games_df['length'] = game_length_list\n",
    "games_df['year'] = year_list\n",
    "games_df['opening_name'] = opening_name_list\n",
    "games_df['opening_moves'] = opening_list"
   ]
  },
  {
   "cell_type": "code",
   "execution_count": 10,
   "metadata": {},
   "outputs": [
    {
     "name": "stdout",
     "output_type": "stream",
     "text": [
      "<class 'pandas.core.frame.DataFrame'>\n",
      "RangeIndex: 1500 entries, 0 to 1499\n",
      "Data columns (total 9 columns):\n",
      " #   Column               Non-Null Count  Dtype \n",
      "---  ------               --------------  ----- \n",
      " 0   white_player         1500 non-null   object\n",
      " 1   white_player_rating  1497 non-null   object\n",
      " 2   black_player         1500 non-null   object\n",
      " 3   black_player_rating  1486 non-null   object\n",
      " 4   result               1500 non-null   object\n",
      " 5   length               1500 non-null   object\n",
      " 6   year                 1500 non-null   object\n",
      " 7   opening_name         1500 non-null   object\n",
      " 8   opening_moves        1500 non-null   object\n",
      "dtypes: object(9)\n",
      "memory usage: 105.6+ KB\n"
     ]
    }
   ],
   "source": [
    "games_df.info()"
   ]
  },
  {
   "cell_type": "code",
   "execution_count": null,
   "metadata": {},
   "outputs": [],
   "source": []
  },
  {
   "cell_type": "markdown",
   "metadata": {},
   "source": [
    "Ok, we have the data. Lets clean it."
   ]
  },
  {
   "cell_type": "code",
   "execution_count": 11,
   "metadata": {},
   "outputs": [
    {
     "data": {
      "text/html": [
       "<div>\n",
       "<style scoped>\n",
       "    .dataframe tbody tr th:only-of-type {\n",
       "        vertical-align: middle;\n",
       "    }\n",
       "\n",
       "    .dataframe tbody tr th {\n",
       "        vertical-align: top;\n",
       "    }\n",
       "\n",
       "    .dataframe thead th {\n",
       "        text-align: right;\n",
       "    }\n",
       "</style>\n",
       "<table border=\"1\" class=\"dataframe\">\n",
       "  <thead>\n",
       "    <tr style=\"text-align: right;\">\n",
       "      <th></th>\n",
       "      <th>white_player</th>\n",
       "      <th>white_player_rating</th>\n",
       "      <th>black_player</th>\n",
       "      <th>black_player_rating</th>\n",
       "      <th>result</th>\n",
       "      <th>length</th>\n",
       "      <th>year</th>\n",
       "      <th>opening_name</th>\n",
       "      <th>opening_moves</th>\n",
       "    </tr>\n",
       "  </thead>\n",
       "  <tbody>\n",
       "    <tr>\n",
       "      <th>0</th>\n",
       "      <td>Magnus Carlsen</td>\n",
       "      <td>(2881)</td>\n",
       "      <td>Wesley So</td>\n",
       "      <td>(2741)</td>\n",
       "      <td>½-½</td>\n",
       "      <td>29</td>\n",
       "      <td>2021</td>\n",
       "      <td>Ruy López Opening: Berlin, Rio Gambit Accepted...</td>\n",
       "      <td>1. e4 e5 2. Nf3 Nc6 3. Bb5 Nf6</td>\n",
       "    </tr>\n",
       "    <tr>\n",
       "      <th>1</th>\n",
       "      <td>Levon Aronian</td>\n",
       "      <td>(2761)</td>\n",
       "      <td>Magnus Carlsen</td>\n",
       "      <td>(2881)</td>\n",
       "      <td>½-½</td>\n",
       "      <td>60</td>\n",
       "      <td>2021</td>\n",
       "      <td>Ruy López Opening: Morphy Defense, Anti-Marsha...</td>\n",
       "      <td>1. e4 e5 2. Nf3 Nc6 3. Bb5 a6</td>\n",
       "    </tr>\n",
       "    <tr>\n",
       "      <th>2</th>\n",
       "      <td>Daniil Dubov</td>\n",
       "      <td>(2710)</td>\n",
       "      <td>Magnus Carlsen</td>\n",
       "      <td>(2847)</td>\n",
       "      <td>0-1</td>\n",
       "      <td>41</td>\n",
       "      <td>2021</td>\n",
       "      <td>Queen's Gambit Declined: Austrian Variation</td>\n",
       "      <td>1. d4 d5 2. c4 c5 3. Nf3 cxd4</td>\n",
       "    </tr>\n",
       "    <tr>\n",
       "      <th>3</th>\n",
       "      <td>Hikaru Nakamura</td>\n",
       "      <td>(2736)</td>\n",
       "      <td>Magnus Carlsen</td>\n",
       "      <td>(2847)</td>\n",
       "      <td>0-1</td>\n",
       "      <td>39</td>\n",
       "      <td>2021</td>\n",
       "      <td>Queen's Gambit Declined: Janowski Variation</td>\n",
       "      <td>1. d4 d5 2. c4 e6 3. Nc3 a6</td>\n",
       "    </tr>\n",
       "    <tr>\n",
       "      <th>4</th>\n",
       "      <td>Andrey Esipenko</td>\n",
       "      <td>(2716)</td>\n",
       "      <td>Magnus Carlsen</td>\n",
       "      <td>(2847)</td>\n",
       "      <td>½-½</td>\n",
       "      <td>36</td>\n",
       "      <td>2021</td>\n",
       "      <td>Giuoco Piano Game: Main Line, Giuoco Pianissim...</td>\n",
       "      <td>1. e4 e5 2. Nf3 Nc6 3. Bc4 Bc5</td>\n",
       "    </tr>\n",
       "    <tr>\n",
       "      <th>...</th>\n",
       "      <td>...</td>\n",
       "      <td>...</td>\n",
       "      <td>...</td>\n",
       "      <td>...</td>\n",
       "      <td>...</td>\n",
       "      <td>...</td>\n",
       "      <td>...</td>\n",
       "      <td>...</td>\n",
       "      <td>...</td>\n",
       "    </tr>\n",
       "    <tr>\n",
       "      <th>1495</th>\n",
       "      <td>Magnus Carlsen</td>\n",
       "      <td>(2876)</td>\n",
       "      <td>Veselin Topalov</td>\n",
       "      <td>(2798)</td>\n",
       "      <td>0-1</td>\n",
       "      <td>60</td>\n",
       "      <td>2015</td>\n",
       "      <td>Semi-Slav Defense</td>\n",
       "      <td>1. d4 d5 2. c4 c6 3. Nf3 Nf6</td>\n",
       "    </tr>\n",
       "    <tr>\n",
       "      <th>1496</th>\n",
       "      <td>Magnus Carlsen</td>\n",
       "      <td>(2862)</td>\n",
       "      <td>Ivan Saric</td>\n",
       "      <td>(2666)</td>\n",
       "      <td>½-½</td>\n",
       "      <td>49</td>\n",
       "      <td>2015</td>\n",
       "      <td>Sicilian Defense: Old Sicilian Variation</td>\n",
       "      <td>1. e4 c5 2. Nf3 Nc6 3. Nc3 Nf6</td>\n",
       "    </tr>\n",
       "    <tr>\n",
       "      <th>1497</th>\n",
       "      <td>Magnus Carlsen</td>\n",
       "      <td>(2853)</td>\n",
       "      <td>Maxime Vachier-Lagrave</td>\n",
       "      <td>(2731)</td>\n",
       "      <td>1-0</td>\n",
       "      <td>43</td>\n",
       "      <td>2015</td>\n",
       "      <td>English Opening: Anglo-Indian, King's Indian D...</td>\n",
       "      <td>1. Nf3 Nf6 2. c4 g6 3. g3 Bg7</td>\n",
       "    </tr>\n",
       "    <tr>\n",
       "      <th>1498</th>\n",
       "      <td>Magnus Carlsen</td>\n",
       "      <td>(2853)</td>\n",
       "      <td>Alexander Grischuk</td>\n",
       "      <td>(2771)</td>\n",
       "      <td>0-1</td>\n",
       "      <td>66</td>\n",
       "      <td>2015</td>\n",
       "      <td>Sicilian Defense: Open, Najdorf, Opočenský Var...</td>\n",
       "      <td>1. e4 c5 2. Nf3 d6 3. d4 cxd4</td>\n",
       "    </tr>\n",
       "    <tr>\n",
       "      <th>1499</th>\n",
       "      <td>Magnus Carlsen</td>\n",
       "      <td>(2850)</td>\n",
       "      <td>Ioannis Papaioannou</td>\n",
       "      <td>(2638)</td>\n",
       "      <td>½-½</td>\n",
       "      <td>41</td>\n",
       "      <td>2015</td>\n",
       "      <td>Bogo-Indian Defense: Nimzowitsch Variation</td>\n",
       "      <td>1. d4 Nf6 2. c4 e6 3. Nf3 Bb4+</td>\n",
       "    </tr>\n",
       "  </tbody>\n",
       "</table>\n",
       "<p>1500 rows × 9 columns</p>\n",
       "</div>"
      ],
      "text/plain": [
       "         white_player white_player_rating            black_player  \\\n",
       "0      Magnus Carlsen              (2881)               Wesley So   \n",
       "1       Levon Aronian              (2761)          Magnus Carlsen   \n",
       "2        Daniil Dubov              (2710)          Magnus Carlsen   \n",
       "3     Hikaru Nakamura              (2736)          Magnus Carlsen   \n",
       "4     Andrey Esipenko              (2716)          Magnus Carlsen   \n",
       "...               ...                 ...                     ...   \n",
       "1495   Magnus Carlsen              (2876)         Veselin Topalov   \n",
       "1496   Magnus Carlsen              (2862)              Ivan Saric   \n",
       "1497   Magnus Carlsen              (2853)  Maxime Vachier-Lagrave   \n",
       "1498   Magnus Carlsen              (2853)      Alexander Grischuk   \n",
       "1499   Magnus Carlsen              (2850)     Ioannis Papaioannou   \n",
       "\n",
       "     black_player_rating result length  year  \\\n",
       "0                 (2741)    ½-½     29  2021   \n",
       "1                 (2881)    ½-½     60  2021   \n",
       "2                 (2847)    0-1     41  2021   \n",
       "3                 (2847)    0-1     39  2021   \n",
       "4                 (2847)    ½-½     36  2021   \n",
       "...                  ...    ...    ...   ...   \n",
       "1495              (2798)    0-1     60  2015   \n",
       "1496              (2666)    ½-½     49  2015   \n",
       "1497              (2731)    1-0     43  2015   \n",
       "1498              (2771)    0-1     66  2015   \n",
       "1499              (2638)    ½-½     41  2015   \n",
       "\n",
       "                                           opening_name  \\\n",
       "0     Ruy López Opening: Berlin, Rio Gambit Accepted...   \n",
       "1     Ruy López Opening: Morphy Defense, Anti-Marsha...   \n",
       "2           Queen's Gambit Declined: Austrian Variation   \n",
       "3           Queen's Gambit Declined: Janowski Variation   \n",
       "4     Giuoco Piano Game: Main Line, Giuoco Pianissim...   \n",
       "...                                                 ...   \n",
       "1495                                  Semi-Slav Defense   \n",
       "1496           Sicilian Defense: Old Sicilian Variation   \n",
       "1497  English Opening: Anglo-Indian, King's Indian D...   \n",
       "1498  Sicilian Defense: Open, Najdorf, Opočenský Var...   \n",
       "1499         Bogo-Indian Defense: Nimzowitsch Variation   \n",
       "\n",
       "                       opening_moves  \n",
       "0     1. e4 e5 2. Nf3 Nc6 3. Bb5 Nf6  \n",
       "1      1. e4 e5 2. Nf3 Nc6 3. Bb5 a6  \n",
       "2      1. d4 d5 2. c4 c5 3. Nf3 cxd4  \n",
       "3        1. d4 d5 2. c4 e6 3. Nc3 a6  \n",
       "4     1. e4 e5 2. Nf3 Nc6 3. Bc4 Bc5  \n",
       "...                              ...  \n",
       "1495    1. d4 d5 2. c4 c6 3. Nf3 Nf6  \n",
       "1496  1. e4 c5 2. Nf3 Nc6 3. Nc3 Nf6  \n",
       "1497   1. Nf3 Nf6 2. c4 g6 3. g3 Bg7  \n",
       "1498   1. e4 c5 2. Nf3 d6 3. d4 cxd4  \n",
       "1499  1. d4 Nf6 2. c4 e6 3. Nf3 Bb4+  \n",
       "\n",
       "[1500 rows x 9 columns]"
      ]
     },
     "execution_count": 11,
     "metadata": {},
     "output_type": "execute_result"
    }
   ],
   "source": [
    "#Lets do the easy things first: cleaning the ratings, year, result, length, and opening\n",
    "games_df['result'] = games_df['result'].map(lambda x: x.strip())\n",
    "games_df['length'] = games_df['length'].map(lambda x: x.strip())\n",
    "games_df['opening_moves'] = games_df['opening_moves'].map(lambda x: x.strip())\n",
    "games_df['opening_name'] = games_df['opening_name'].map(lambda x: x.strip())\n",
    "\n",
    "games_df"
   ]
  },
  {
   "cell_type": "code",
   "execution_count": 12,
   "metadata": {},
   "outputs": [],
   "source": [
    "def rating_to_int(rating):\n",
    "    if type(rating) != float:\n",
    "        return int(rating[1:5])\n",
    "    else:\n",
    "        return rating"
   ]
  },
  {
   "cell_type": "code",
   "execution_count": 13,
   "metadata": {},
   "outputs": [],
   "source": [
    "games_df['white_player_rating'] = games_df['white_player_rating'].map(rating_to_int)\n",
    "games_df['black_player_rating'] = games_df['black_player_rating'].map(rating_to_int)"
   ]
  },
  {
   "cell_type": "code",
   "execution_count": 14,
   "metadata": {},
   "outputs": [
    {
     "data": {
      "text/html": [
       "<div>\n",
       "<style scoped>\n",
       "    .dataframe tbody tr th:only-of-type {\n",
       "        vertical-align: middle;\n",
       "    }\n",
       "\n",
       "    .dataframe tbody tr th {\n",
       "        vertical-align: top;\n",
       "    }\n",
       "\n",
       "    .dataframe thead th {\n",
       "        text-align: right;\n",
       "    }\n",
       "</style>\n",
       "<table border=\"1\" class=\"dataframe\">\n",
       "  <thead>\n",
       "    <tr style=\"text-align: right;\">\n",
       "      <th></th>\n",
       "      <th>white_player</th>\n",
       "      <th>white_player_rating</th>\n",
       "      <th>black_player</th>\n",
       "      <th>black_player_rating</th>\n",
       "      <th>result</th>\n",
       "      <th>length</th>\n",
       "      <th>year</th>\n",
       "      <th>opening_name</th>\n",
       "      <th>opening_moves</th>\n",
       "    </tr>\n",
       "  </thead>\n",
       "  <tbody>\n",
       "    <tr>\n",
       "      <th>0</th>\n",
       "      <td>Magnus Carlsen</td>\n",
       "      <td>2881.0</td>\n",
       "      <td>Wesley So</td>\n",
       "      <td>2741.0</td>\n",
       "      <td>½-½</td>\n",
       "      <td>29</td>\n",
       "      <td>2021</td>\n",
       "      <td>Ruy López Opening: Berlin, Rio Gambit Accepted...</td>\n",
       "      <td>1. e4 e5 2. Nf3 Nc6 3. Bb5 Nf6</td>\n",
       "    </tr>\n",
       "    <tr>\n",
       "      <th>1</th>\n",
       "      <td>Levon Aronian</td>\n",
       "      <td>2761.0</td>\n",
       "      <td>Magnus Carlsen</td>\n",
       "      <td>2881.0</td>\n",
       "      <td>½-½</td>\n",
       "      <td>60</td>\n",
       "      <td>2021</td>\n",
       "      <td>Ruy López Opening: Morphy Defense, Anti-Marsha...</td>\n",
       "      <td>1. e4 e5 2. Nf3 Nc6 3. Bb5 a6</td>\n",
       "    </tr>\n",
       "    <tr>\n",
       "      <th>2</th>\n",
       "      <td>Daniil Dubov</td>\n",
       "      <td>2710.0</td>\n",
       "      <td>Magnus Carlsen</td>\n",
       "      <td>2847.0</td>\n",
       "      <td>0-1</td>\n",
       "      <td>41</td>\n",
       "      <td>2021</td>\n",
       "      <td>Queen's Gambit Declined: Austrian Variation</td>\n",
       "      <td>1. d4 d5 2. c4 c5 3. Nf3 cxd4</td>\n",
       "    </tr>\n",
       "    <tr>\n",
       "      <th>3</th>\n",
       "      <td>Hikaru Nakamura</td>\n",
       "      <td>2736.0</td>\n",
       "      <td>Magnus Carlsen</td>\n",
       "      <td>2847.0</td>\n",
       "      <td>0-1</td>\n",
       "      <td>39</td>\n",
       "      <td>2021</td>\n",
       "      <td>Queen's Gambit Declined: Janowski Variation</td>\n",
       "      <td>1. d4 d5 2. c4 e6 3. Nc3 a6</td>\n",
       "    </tr>\n",
       "    <tr>\n",
       "      <th>4</th>\n",
       "      <td>Andrey Esipenko</td>\n",
       "      <td>2716.0</td>\n",
       "      <td>Magnus Carlsen</td>\n",
       "      <td>2847.0</td>\n",
       "      <td>½-½</td>\n",
       "      <td>36</td>\n",
       "      <td>2021</td>\n",
       "      <td>Giuoco Piano Game: Main Line, Giuoco Pianissim...</td>\n",
       "      <td>1. e4 e5 2. Nf3 Nc6 3. Bc4 Bc5</td>\n",
       "    </tr>\n",
       "    <tr>\n",
       "      <th>...</th>\n",
       "      <td>...</td>\n",
       "      <td>...</td>\n",
       "      <td>...</td>\n",
       "      <td>...</td>\n",
       "      <td>...</td>\n",
       "      <td>...</td>\n",
       "      <td>...</td>\n",
       "      <td>...</td>\n",
       "      <td>...</td>\n",
       "    </tr>\n",
       "    <tr>\n",
       "      <th>1495</th>\n",
       "      <td>Magnus Carlsen</td>\n",
       "      <td>2876.0</td>\n",
       "      <td>Veselin Topalov</td>\n",
       "      <td>2798.0</td>\n",
       "      <td>0-1</td>\n",
       "      <td>60</td>\n",
       "      <td>2015</td>\n",
       "      <td>Semi-Slav Defense</td>\n",
       "      <td>1. d4 d5 2. c4 c6 3. Nf3 Nf6</td>\n",
       "    </tr>\n",
       "    <tr>\n",
       "      <th>1496</th>\n",
       "      <td>Magnus Carlsen</td>\n",
       "      <td>2862.0</td>\n",
       "      <td>Ivan Saric</td>\n",
       "      <td>2666.0</td>\n",
       "      <td>½-½</td>\n",
       "      <td>49</td>\n",
       "      <td>2015</td>\n",
       "      <td>Sicilian Defense: Old Sicilian Variation</td>\n",
       "      <td>1. e4 c5 2. Nf3 Nc6 3. Nc3 Nf6</td>\n",
       "    </tr>\n",
       "    <tr>\n",
       "      <th>1497</th>\n",
       "      <td>Magnus Carlsen</td>\n",
       "      <td>2853.0</td>\n",
       "      <td>Maxime Vachier-Lagrave</td>\n",
       "      <td>2731.0</td>\n",
       "      <td>1-0</td>\n",
       "      <td>43</td>\n",
       "      <td>2015</td>\n",
       "      <td>English Opening: Anglo-Indian, King's Indian D...</td>\n",
       "      <td>1. Nf3 Nf6 2. c4 g6 3. g3 Bg7</td>\n",
       "    </tr>\n",
       "    <tr>\n",
       "      <th>1498</th>\n",
       "      <td>Magnus Carlsen</td>\n",
       "      <td>2853.0</td>\n",
       "      <td>Alexander Grischuk</td>\n",
       "      <td>2771.0</td>\n",
       "      <td>0-1</td>\n",
       "      <td>66</td>\n",
       "      <td>2015</td>\n",
       "      <td>Sicilian Defense: Open, Najdorf, Opočenský Var...</td>\n",
       "      <td>1. e4 c5 2. Nf3 d6 3. d4 cxd4</td>\n",
       "    </tr>\n",
       "    <tr>\n",
       "      <th>1499</th>\n",
       "      <td>Magnus Carlsen</td>\n",
       "      <td>2850.0</td>\n",
       "      <td>Ioannis Papaioannou</td>\n",
       "      <td>2638.0</td>\n",
       "      <td>½-½</td>\n",
       "      <td>41</td>\n",
       "      <td>2015</td>\n",
       "      <td>Bogo-Indian Defense: Nimzowitsch Variation</td>\n",
       "      <td>1. d4 Nf6 2. c4 e6 3. Nf3 Bb4+</td>\n",
       "    </tr>\n",
       "  </tbody>\n",
       "</table>\n",
       "<p>1500 rows × 9 columns</p>\n",
       "</div>"
      ],
      "text/plain": [
       "         white_player  white_player_rating            black_player  \\\n",
       "0      Magnus Carlsen               2881.0               Wesley So   \n",
       "1       Levon Aronian               2761.0          Magnus Carlsen   \n",
       "2        Daniil Dubov               2710.0          Magnus Carlsen   \n",
       "3     Hikaru Nakamura               2736.0          Magnus Carlsen   \n",
       "4     Andrey Esipenko               2716.0          Magnus Carlsen   \n",
       "...               ...                  ...                     ...   \n",
       "1495   Magnus Carlsen               2876.0         Veselin Topalov   \n",
       "1496   Magnus Carlsen               2862.0              Ivan Saric   \n",
       "1497   Magnus Carlsen               2853.0  Maxime Vachier-Lagrave   \n",
       "1498   Magnus Carlsen               2853.0      Alexander Grischuk   \n",
       "1499   Magnus Carlsen               2850.0     Ioannis Papaioannou   \n",
       "\n",
       "      black_player_rating result length  year  \\\n",
       "0                  2741.0    ½-½     29  2021   \n",
       "1                  2881.0    ½-½     60  2021   \n",
       "2                  2847.0    0-1     41  2021   \n",
       "3                  2847.0    0-1     39  2021   \n",
       "4                  2847.0    ½-½     36  2021   \n",
       "...                   ...    ...    ...   ...   \n",
       "1495               2798.0    0-1     60  2015   \n",
       "1496               2666.0    ½-½     49  2015   \n",
       "1497               2731.0    1-0     43  2015   \n",
       "1498               2771.0    0-1     66  2015   \n",
       "1499               2638.0    ½-½     41  2015   \n",
       "\n",
       "                                           opening_name  \\\n",
       "0     Ruy López Opening: Berlin, Rio Gambit Accepted...   \n",
       "1     Ruy López Opening: Morphy Defense, Anti-Marsha...   \n",
       "2           Queen's Gambit Declined: Austrian Variation   \n",
       "3           Queen's Gambit Declined: Janowski Variation   \n",
       "4     Giuoco Piano Game: Main Line, Giuoco Pianissim...   \n",
       "...                                                 ...   \n",
       "1495                                  Semi-Slav Defense   \n",
       "1496           Sicilian Defense: Old Sicilian Variation   \n",
       "1497  English Opening: Anglo-Indian, King's Indian D...   \n",
       "1498  Sicilian Defense: Open, Najdorf, Opočenský Var...   \n",
       "1499         Bogo-Indian Defense: Nimzowitsch Variation   \n",
       "\n",
       "                       opening_moves  \n",
       "0     1. e4 e5 2. Nf3 Nc6 3. Bb5 Nf6  \n",
       "1      1. e4 e5 2. Nf3 Nc6 3. Bb5 a6  \n",
       "2      1. d4 d5 2. c4 c5 3. Nf3 cxd4  \n",
       "3        1. d4 d5 2. c4 e6 3. Nc3 a6  \n",
       "4     1. e4 e5 2. Nf3 Nc6 3. Bc4 Bc5  \n",
       "...                              ...  \n",
       "1495    1. d4 d5 2. c4 c6 3. Nf3 Nf6  \n",
       "1496  1. e4 c5 2. Nf3 Nc6 3. Nc3 Nf6  \n",
       "1497   1. Nf3 Nf6 2. c4 g6 3. g3 Bg7  \n",
       "1498   1. e4 c5 2. Nf3 d6 3. d4 cxd4  \n",
       "1499  1. d4 Nf6 2. c4 e6 3. Nf3 Bb4+  \n",
       "\n",
       "[1500 rows x 9 columns]"
      ]
     },
     "execution_count": 14,
     "metadata": {},
     "output_type": "execute_result"
    }
   ],
   "source": [
    "games_df"
   ]
  },
  {
   "cell_type": "code",
   "execution_count": 18,
   "metadata": {},
   "outputs": [
    {
     "name": "stdout",
     "output_type": "stream",
     "text": [
      "<class 'pandas.core.frame.DataFrame'>\n",
      "RangeIndex: 1500 entries, 0 to 1499\n",
      "Data columns (total 9 columns):\n",
      " #   Column               Non-Null Count  Dtype  \n",
      "---  ------               --------------  -----  \n",
      " 0   white_player         1500 non-null   object \n",
      " 1   white_player_rating  1497 non-null   float64\n",
      " 2   black_player         1500 non-null   object \n",
      " 3   black_player_rating  1486 non-null   float64\n",
      " 4   result               1500 non-null   object \n",
      " 5   length               1500 non-null   object \n",
      " 6   year                 1500 non-null   object \n",
      " 7   opening_name         1500 non-null   object \n",
      " 8   opening_moves        1500 non-null   object \n",
      "dtypes: float64(2), object(7)\n",
      "memory usage: 105.6+ KB\n"
     ]
    }
   ],
   "source": [
    "games_df.info()"
   ]
  },
  {
   "cell_type": "code",
   "execution_count": 25,
   "metadata": {},
   "outputs": [],
   "source": [
    "games_df['length'] = games_df['length'].astype('int64')"
   ]
  },
  {
   "cell_type": "code",
   "execution_count": 26,
   "metadata": {},
   "outputs": [
    {
     "name": "stdout",
     "output_type": "stream",
     "text": [
      "<class 'pandas.core.frame.DataFrame'>\n",
      "RangeIndex: 1500 entries, 0 to 1499\n",
      "Data columns (total 9 columns):\n",
      " #   Column               Non-Null Count  Dtype  \n",
      "---  ------               --------------  -----  \n",
      " 0   white_player         1500 non-null   object \n",
      " 1   white_player_rating  1497 non-null   float64\n",
      " 2   black_player         1500 non-null   object \n",
      " 3   black_player_rating  1486 non-null   float64\n",
      " 4   result               1500 non-null   object \n",
      " 5   length               1500 non-null   int64  \n",
      " 6   year                 1500 non-null   object \n",
      " 7   opening_name         1500 non-null   object \n",
      " 8   opening_moves        1500 non-null   object \n",
      "dtypes: float64(2), int64(1), object(6)\n",
      "memory usage: 105.6+ KB\n"
     ]
    }
   ],
   "source": [
    "games_df.info()"
   ]
  },
  {
   "cell_type": "code",
   "execution_count": 28,
   "metadata": {},
   "outputs": [
    {
     "data": {
      "text/plain": [
       "½-½    634\n",
       "1-0    501\n",
       "0-1    365\n",
       "Name: result, dtype: int64"
      ]
     },
     "execution_count": 28,
     "metadata": {},
     "output_type": "execute_result"
    }
   ],
   "source": [
    "games_df['result'].value_counts()"
   ]
  },
  {
   "cell_type": "code",
   "execution_count": 31,
   "metadata": {},
   "outputs": [
    {
     "data": {
      "text/plain": [
       "Queen's Gambit Declined: 3.Nf3 Nf6                                                           81\n",
       "Indian Game                                                                                  33\n",
       "Ruy López Opening: Berlin Defense, 4.d3 Bc5                                                  26\n",
       "Giuoco Piano Game: Main Line, Giuoco Pianissimo Variation                                    25\n",
       "Queen's Pawn Opening: Symmetrical Variation                                                  22\n",
       "                                                                                             ..\n",
       "Giuoco Piano Game: Main Line, Giuoco Pianissimo Variation, 5...a6                             1\n",
       "Ruy López Opening: Morphy Defense, Columbus Variation, 4...Nf6 5.O-O b5 6.Bb3 Bc5 7.c3 d6     1\n",
       "King's Indian Defense: Orthodox, Exchange Variation, 8.Qxd8 Rxd8 9.Bg5 Re8 10.Nd5             1\n",
       "Sicilian Defense: Open, Najdorf, English Attack, 6...e5                                       1\n",
       "Queen's Gambit Declined: Lasker Defense                                                       1\n",
       "Name: opening_name, Length: 498, dtype: int64"
      ]
     },
     "execution_count": 31,
     "metadata": {},
     "output_type": "execute_result"
    }
   ],
   "source": [
    "games_df['opening_name'].value_counts()"
   ]
  },
  {
   "cell_type": "code",
   "execution_count": 44,
   "metadata": {},
   "outputs": [],
   "source": [
    "opening = []\n",
    "opening_variant = []\n",
    "for game in games_df['opening_name'].map(lambda x: x.split(':')):\n",
    "    opening.append(game[0])\n",
    "    try: \n",
    "        opening_variant.append(game[1])\n",
    "    except:\n",
    "        opening_variant.append(np.NaN)"
   ]
  },
  {
   "cell_type": "code",
   "execution_count": 49,
   "metadata": {},
   "outputs": [],
   "source": [
    "games_df['opening'] = opening\n",
    "games_df['opening_variant'] = opening_variant"
   ]
  },
  {
   "cell_type": "code",
   "execution_count": 55,
   "metadata": {},
   "outputs": [
    {
     "data": {
      "text/plain": [
       "53"
      ]
     },
     "execution_count": 55,
     "metadata": {},
     "output_type": "execute_result"
    }
   ],
   "source": [
    "len(games_df['opening'].value_counts())"
   ]
  },
  {
   "cell_type": "code",
   "execution_count": null,
   "metadata": {},
   "outputs": [],
   "source": []
  }
 ],
 "metadata": {
  "interpreter": {
   "hash": "2727b2a22fa54fc80c442d9882c796b170b7ece9140881dba5a5b9a9bde47675"
  },
  "kernelspec": {
   "display_name": "Python (learn-env)",
   "language": "python",
   "name": "learn-env"
  },
  "language_info": {
   "codemirror_mode": {
    "name": "ipython",
    "version": 3
   },
   "file_extension": ".py",
   "mimetype": "text/x-python",
   "name": "python",
   "nbconvert_exporter": "python",
   "pygments_lexer": "ipython3",
   "version": "3.8.5"
  },
  "orig_nbformat": 4
 },
 "nbformat": 4,
 "nbformat_minor": 2
}
