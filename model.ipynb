{
 "cells": [
  {
   "cell_type": "code",
   "execution_count": 1,
   "metadata": {},
   "outputs": [],
   "source": [
    "import pandas as pd\n",
    "import numpy as np\n",
    "import matplotlib.pyplot as plt\n",
    "import seaborn as sns\n",
    "\n",
    "from sklearn.pipeline import Pipeline\n",
    "from sklearn.impute import SimpleImputer\n",
    "from sklearn.preprocessing import OneHotEncoder, StandardScaler, MaxAbsScaler\n",
    "from sklearn.compose import ColumnTransformer\n",
    "from sklearn.model_selection import train_test_split, GridSearchCV\n",
    "from sklearn.neighbors import KNeighborsClassifier\n",
    "from sklearn.metrics import plot_confusion_matrix, accuracy_score, plot_roc_curve, classification_report\n",
    "from sklearn.naive_bayes import GaussianNB\n",
    "from sklearn.tree import DecisionTreeClassifier, plot_tree\n",
    "from sklearn.ensemble import RandomForestClassifier"
   ]
  },
  {
   "cell_type": "code",
   "execution_count": 2,
   "metadata": {},
   "outputs": [],
   "source": [
    "magnus_df = pd.read_pickle(\"./magnus.pkl\")\n",
    "\n",
    "magnus_df = magnus_df.drop(columns = ['opponent', 'opening_moves', 'opening_variant'])\n"
   ]
  },
  {
   "cell_type": "code",
   "execution_count": 3,
   "metadata": {},
   "outputs": [],
   "source": [
    "magnus_df.rename(columns = {'player_color' : 'magnus_color', 'player_rating' : 'magnus_rating'}, inplace = True)"
   ]
  },
  {
   "cell_type": "code",
   "execution_count": 4,
   "metadata": {},
   "outputs": [
    {
     "data": {
      "text/plain": [
       "0       False\n",
       "1       False\n",
       "2       False\n",
       "3       False\n",
       "4       False\n",
       "        ...  \n",
       "1495    False\n",
       "1496    False\n",
       "1497    False\n",
       "1498    False\n",
       "1499    False\n",
       "Name: opening, Length: 1500, dtype: bool"
      ]
     },
     "execution_count": 4,
     "metadata": {},
     "output_type": "execute_result"
    }
   ],
   "source": [
    "small_opening_list = magnus_df['opening'].value_counts()[magnus_df['opening'].value_counts() < 10].index\n",
    "small_opening_list\n",
    "magnus_df['opening'].isin(small_opening_list)"
   ]
  },
  {
   "cell_type": "code",
   "execution_count": 7,
   "metadata": {},
   "outputs": [
    {
     "data": {
      "text/html": [
       "<div>\n",
       "<style scoped>\n",
       "    .dataframe tbody tr th:only-of-type {\n",
       "        vertical-align: middle;\n",
       "    }\n",
       "\n",
       "    .dataframe tbody tr th {\n",
       "        vertical-align: top;\n",
       "    }\n",
       "\n",
       "    .dataframe thead th {\n",
       "        text-align: right;\n",
       "    }\n",
       "</style>\n",
       "<table border=\"1\" class=\"dataframe\">\n",
       "  <thead>\n",
       "    <tr style=\"text-align: right;\">\n",
       "      <th></th>\n",
       "      <th>magnus_color</th>\n",
       "      <th>opponent_rating</th>\n",
       "      <th>magnus_rating</th>\n",
       "      <th>length</th>\n",
       "      <th>year</th>\n",
       "      <th>opening</th>\n",
       "      <th>result</th>\n",
       "    </tr>\n",
       "  </thead>\n",
       "  <tbody>\n",
       "    <tr>\n",
       "      <th>0</th>\n",
       "      <td>white</td>\n",
       "      <td>2741.0</td>\n",
       "      <td>2881.0</td>\n",
       "      <td>29</td>\n",
       "      <td>2021</td>\n",
       "      <td>Ruy López Opening</td>\n",
       "      <td>draw</td>\n",
       "    </tr>\n",
       "    <tr>\n",
       "      <th>1</th>\n",
       "      <td>black</td>\n",
       "      <td>2761.0</td>\n",
       "      <td>2881.0</td>\n",
       "      <td>60</td>\n",
       "      <td>2021</td>\n",
       "      <td>Ruy López Opening</td>\n",
       "      <td>draw</td>\n",
       "    </tr>\n",
       "    <tr>\n",
       "      <th>2</th>\n",
       "      <td>black</td>\n",
       "      <td>2710.0</td>\n",
       "      <td>2847.0</td>\n",
       "      <td>41</td>\n",
       "      <td>2021</td>\n",
       "      <td>Queen's Gambit Declined</td>\n",
       "      <td>win</td>\n",
       "    </tr>\n",
       "    <tr>\n",
       "      <th>3</th>\n",
       "      <td>black</td>\n",
       "      <td>2736.0</td>\n",
       "      <td>2847.0</td>\n",
       "      <td>39</td>\n",
       "      <td>2021</td>\n",
       "      <td>Queen's Gambit Declined</td>\n",
       "      <td>win</td>\n",
       "    </tr>\n",
       "    <tr>\n",
       "      <th>4</th>\n",
       "      <td>black</td>\n",
       "      <td>2716.0</td>\n",
       "      <td>2847.0</td>\n",
       "      <td>36</td>\n",
       "      <td>2021</td>\n",
       "      <td>Giuoco Piano Game</td>\n",
       "      <td>draw</td>\n",
       "    </tr>\n",
       "    <tr>\n",
       "      <th>...</th>\n",
       "      <td>...</td>\n",
       "      <td>...</td>\n",
       "      <td>...</td>\n",
       "      <td>...</td>\n",
       "      <td>...</td>\n",
       "      <td>...</td>\n",
       "      <td>...</td>\n",
       "    </tr>\n",
       "    <tr>\n",
       "      <th>1495</th>\n",
       "      <td>white</td>\n",
       "      <td>2798.0</td>\n",
       "      <td>2876.0</td>\n",
       "      <td>60</td>\n",
       "      <td>2015</td>\n",
       "      <td>Semi-Slav Defense</td>\n",
       "      <td>loss</td>\n",
       "    </tr>\n",
       "    <tr>\n",
       "      <th>1496</th>\n",
       "      <td>white</td>\n",
       "      <td>2666.0</td>\n",
       "      <td>2862.0</td>\n",
       "      <td>49</td>\n",
       "      <td>2015</td>\n",
       "      <td>Sicilian Defense</td>\n",
       "      <td>draw</td>\n",
       "    </tr>\n",
       "    <tr>\n",
       "      <th>1497</th>\n",
       "      <td>white</td>\n",
       "      <td>2731.0</td>\n",
       "      <td>2853.0</td>\n",
       "      <td>43</td>\n",
       "      <td>2015</td>\n",
       "      <td>English Opening</td>\n",
       "      <td>win</td>\n",
       "    </tr>\n",
       "    <tr>\n",
       "      <th>1498</th>\n",
       "      <td>white</td>\n",
       "      <td>2771.0</td>\n",
       "      <td>2853.0</td>\n",
       "      <td>66</td>\n",
       "      <td>2015</td>\n",
       "      <td>Sicilian Defense</td>\n",
       "      <td>loss</td>\n",
       "    </tr>\n",
       "    <tr>\n",
       "      <th>1499</th>\n",
       "      <td>white</td>\n",
       "      <td>2638.0</td>\n",
       "      <td>2850.0</td>\n",
       "      <td>41</td>\n",
       "      <td>2015</td>\n",
       "      <td>Bogo-Indian Defense</td>\n",
       "      <td>draw</td>\n",
       "    </tr>\n",
       "  </tbody>\n",
       "</table>\n",
       "<p>1404 rows × 7 columns</p>\n",
       "</div>"
      ],
      "text/plain": [
       "     magnus_color  opponent_rating  magnus_rating  length  year  \\\n",
       "0           white           2741.0         2881.0      29  2021   \n",
       "1           black           2761.0         2881.0      60  2021   \n",
       "2           black           2710.0         2847.0      41  2021   \n",
       "3           black           2736.0         2847.0      39  2021   \n",
       "4           black           2716.0         2847.0      36  2021   \n",
       "...           ...              ...            ...     ...   ...   \n",
       "1495        white           2798.0         2876.0      60  2015   \n",
       "1496        white           2666.0         2862.0      49  2015   \n",
       "1497        white           2731.0         2853.0      43  2015   \n",
       "1498        white           2771.0         2853.0      66  2015   \n",
       "1499        white           2638.0         2850.0      41  2015   \n",
       "\n",
       "                      opening result  \n",
       "0           Ruy López Opening   draw  \n",
       "1           Ruy López Opening   draw  \n",
       "2     Queen's Gambit Declined    win  \n",
       "3     Queen's Gambit Declined    win  \n",
       "4           Giuoco Piano Game   draw  \n",
       "...                       ...    ...  \n",
       "1495        Semi-Slav Defense   loss  \n",
       "1496         Sicilian Defense   draw  \n",
       "1497          English Opening    win  \n",
       "1498         Sicilian Defense   loss  \n",
       "1499      Bogo-Indian Defense   draw  \n",
       "\n",
       "[1404 rows x 7 columns]"
      ]
     },
     "execution_count": 7,
     "metadata": {},
     "output_type": "execute_result"
    }
   ],
   "source": [
    "magnus_df = magnus_df[~magnus_df['opening'].isin(small_opening_list)]"
   ]
  },
  {
   "cell_type": "code",
   "execution_count": null,
   "metadata": {},
   "outputs": [],
   "source": []
  },
  {
   "cell_type": "code",
   "execution_count": null,
   "metadata": {},
   "outputs": [],
   "source": [
    "hot_potato = OneHotEncoder(sparse = False, drop = 'first') \n"
   ]
  },
  {
   "cell_type": "code",
   "execution_count": null,
   "metadata": {},
   "outputs": [],
   "source": [
    "X = magnus_df.drop(columns = 'result')\n",
    "y = magnus_df['result']\n",
    "\n",
    "X_train, X_test, y_train, y_test = train_test_split(X, y, stratify = y, test_size = .3)"
   ]
  },
  {
   "cell_type": "code",
   "execution_count": null,
   "metadata": {},
   "outputs": [],
   "source": [
    "numeric_pipeline = Pipeline([('numimputer', SimpleImputer(strategy= 'mean')), ('numnorm', StandardScaler())])\n",
    "\n",
    "ordinal_pipeline = Pipeline([\n",
    "    ('ordimputer', SimpleImputer(strategy = 'most_frequent')), \n",
    "    ('ordnorm', StandardScaler())\n",
    "    ])\n",
    "\n",
    "nominal_pipeline = Pipeline([\n",
    "    ('onehotimputer', SimpleImputer(strategy = 'most_frequent')),\n",
    "    # ('onehotenc', OneHotEncoder(sparse = False, drop = 'first')), \n",
    "    ('onehotnorm', MaxAbsScaler())\n",
    "])"
   ]
  },
  {
   "cell_type": "code",
   "execution_count": null,
   "metadata": {},
   "outputs": [],
   "source": [
    "numeric_cols = ['opponent_rating', 'magnus_rating', 'length']\n",
    "ordinal_cols = ['year']\n",
    "nominal_cols = ['magnus_color', 'opening']"
   ]
  },
  {
   "cell_type": "code",
   "execution_count": null,
   "metadata": {},
   "outputs": [],
   "source": [
    "ct = ColumnTransformer(\n",
    "    [(\"ordinal_pipe\", ordinal_pipeline, ordinal_cols),\n",
    "    (\"nominal_pipe\", nominal_pipeline, nominal_cols),\n",
    "    (\"numeric_pipe\", numeric_pipeline, numeric_cols)]\n",
    ")"
   ]
  },
  {
   "cell_type": "code",
   "execution_count": null,
   "metadata": {},
   "outputs": [],
   "source": [
    "k_pipe = Pipeline([\n",
    "    ('preprocessing', ct),\n",
    "    ('model', KNeighborsClassifier())\n",
    "])"
   ]
  },
  {
   "cell_type": "code",
   "execution_count": null,
   "metadata": {},
   "outputs": [],
   "source": [
    "k_pipe.fit(X_train, y_train)"
   ]
  },
  {
   "cell_type": "code",
   "execution_count": null,
   "metadata": {},
   "outputs": [],
   "source": [
    "plot_confusion_matrix(k_pipe, X_train, y_train)"
   ]
  },
  {
   "cell_type": "code",
   "execution_count": null,
   "metadata": {},
   "outputs": [],
   "source": [
    "dtree_pipe = Pipeline([\n",
    "    ('preprocessing', ct),\n",
    "    ('model', DecisionTreeClassifier())\n",
    "])"
   ]
  },
  {
   "cell_type": "code",
   "execution_count": null,
   "metadata": {},
   "outputs": [],
   "source": [
    "dtree_pipe.fit(X_train, y_train)"
   ]
  },
  {
   "cell_type": "code",
   "execution_count": null,
   "metadata": {},
   "outputs": [],
   "source": [
    "plot_confusion_matrix(dtree_pipe, X_train, y_train)"
   ]
  },
  {
   "cell_type": "code",
   "execution_count": null,
   "metadata": {},
   "outputs": [],
   "source": []
  }
 ],
 "metadata": {
  "interpreter": {
   "hash": "dfff5bd0c134f0547de71482d92e26ad9816d2e72735de45c73d9aeb806ef98a"
  },
  "kernelspec": {
   "display_name": "Python 3.8.5 ('learn-env')",
   "language": "python",
   "name": "python3"
  },
  "language_info": {
   "codemirror_mode": {
    "name": "ipython",
    "version": 3
   },
   "file_extension": ".py",
   "mimetype": "text/x-python",
   "name": "python",
   "nbconvert_exporter": "python",
   "pygments_lexer": "ipython3",
   "version": "3.8.5"
  },
  "orig_nbformat": 4
 },
 "nbformat": 4,
 "nbformat_minor": 2
}
